{
  "nbformat": 4,
  "nbformat_minor": 0,
  "metadata": {
    "colab": {
      "name": "Quiz3.ipynb",
      "provenance": [],
      "collapsed_sections": []
    },
    "kernelspec": {
      "name": "python3",
      "display_name": "Python 3"
    }
  },
  "cells": [
    {
      "cell_type": "markdown",
      "metadata": {
        "id": "_p-FbhlxRsnq"
      },
      "source": [
        "Integrantes: Elena Posada, Carmen Sierra, Maria Camila Herrera M\n",
        "Punto 1 knn "
      ]
    },
    {
      "cell_type": "code",
      "metadata": {
        "id": "UvLJ2xGPChGu"
      },
      "source": [
        "import sklearn #Aprendizaje de máquina\n",
        "from sklearn.datasets import load_iris#SET DATOS\n",
        "from sklearn.model_selection import train_test_split#Division de datos\n",
        "#para entrenar y para verificar\n",
        "iris=load_iris()\n",
        "datosEntrenamiento, datosPrueba,respuestasEntrenamiento,respuestaPrueba=train_test_split(iris['data'],iris['target'])"
      ],
      "execution_count": 39,
      "outputs": []
    },
    {
      "cell_type": "code",
      "metadata": {
        "id": "GPiTc2IkDDxm",
        "outputId": "277cca82-0dba-4786-a2f5-50e4754232d9",
        "colab": {
          "base_uri": "https://localhost:8080/",
          "height": 102
        }
      },
      "source": [
        "from sklearn.neighbors import KNeighborsClassifier\n",
        "knn4= KNeighborsClassifier(n_neighbors=4)\n",
        "knn8= KNeighborsClassifier(n_neighbors=8)\n",
        "knn12= KNeighborsClassifier(n_neighbors=12)\n",
        "knn16= KNeighborsClassifier(n_neighbors=16)\n",
        "lista_clasificadores = []\n",
        "scores_clasificadores = []\n",
        "lista_clasificadores.append(knn4)\n",
        "lista_clasificadores.append(knn8)\n",
        "lista_clasificadores.append(knn12)\n",
        "lista_clasificadores.append(knn16)\n",
        "for elemento in lista_clasificadores:\n",
        "  elemento.fit(datosEntrenamiento,respuestasEntrenamiento)\n",
        "  scores_clasificadores.append(elemento.score(datosPrueba,respuestaPrueba)*100)\n",
        "  print(elemento.score(datosPrueba,respuestaPrueba)*100)\n",
        "print(scores_clasificadores)"
      ],
      "execution_count": 47,
      "outputs": [
        {
          "output_type": "stream",
          "text": [
            "28.947368421052634\n",
            "28.947368421052634\n",
            "28.947368421052634\n",
            "28.947368421052634\n",
            "[28.947368421052634, 28.947368421052634, 28.947368421052634, 28.947368421052634]\n"
          ],
          "name": "stdout"
        }
      ]
    },
    {
      "cell_type": "code",
      "metadata": {
        "id": "QDlcoqbRETbS",
        "outputId": "18db2531-bbfb-4493-ea53-40113bdf6dae",
        "colab": {
          "base_uri": "https://localhost:8080/",
          "height": 85
        }
      },
      "source": [
        "for elemento in scores_clasificadores:\n",
        "  if elemento== 100:\n",
        "    print(\"En los datos anteriores se presenta un sobre ajuste\")\n",
        "  else:\n",
        "    print(\"EN los datos no se presenta un sobre ajuste\")"
      ],
      "execution_count": 55,
      "outputs": [
        {
          "output_type": "stream",
          "text": [
            "EN los datos no se presenta un sobre ajuste\n",
            "EN los datos no se presenta un sobre ajuste\n",
            "EN los datos no se presenta un sobre ajuste\n",
            "EN los datos no se presenta un sobre ajuste\n"
          ],
          "name": "stdout"
        }
      ]
    },
    {
      "cell_type": "markdown",
      "metadata": {
        "id": "V_f47qQCSD6r"
      },
      "source": [
        "Punto 2 \n",
        "Arbol de desiciones "
      ]
    },
    {
      "cell_type": "code",
      "metadata": {
        "id": "HldSFzs6D4Mc"
      },
      "source": [
        "from sklearn.datasets import load_iris \n",
        "from sklearn.model_selection import train_test_split \n",
        "from sklearn.tree import  DecisionTreeClassifier \n",
        "iris = load_iris()\n",
        "datosEntrenamiento, datosPrueba,respuestasEntrenamiento,respuestasPrueba=train_test_split(iris['data'],iris['target'])"
      ],
      "execution_count": 58,
      "outputs": []
    },
    {
      "cell_type": "code",
      "metadata": {
        "id": "6PsVaBDKDV-B",
        "outputId": "526e2d83-8f1b-4861-cfe6-40d83db781df",
        "colab": {
          "base_uri": "https://localhost:8080/",
          "height": 34
        }
      },
      "source": [
        "arbol3 = DecisionTreeClassifier(max_depth=3)\n",
        "arbol3.fit(datosEntrenamiento,respuestasEntrenamiento)\n",
        "scoreTree3 = arbol3.score(datosPrueba, respuestasPrueba)*100\n",
        "print(scoreTree3)"
      ],
      "execution_count": 59,
      "outputs": [
        {
          "output_type": "stream",
          "text": [
            "94.73684210526315\n"
          ],
          "name": "stdout"
        }
      ]
    },
    {
      "cell_type": "code",
      "metadata": {
        "id": "GyzgpUSVFthk",
        "outputId": "0ca2ae51-3293-4d79-cc22-8b45868bcfaa",
        "colab": {
          "base_uri": "https://localhost:8080/",
          "height": 85
        }
      },
      "source": [
        "for elemento in scores_clasificadores:\n",
        "  if elemento <= scoreTree3: \n",
        "    print(\"Es mejor el arbol con la profundidad maxima de 3 \")\n",
        "  else:\n",
        "    print(\"Es mejor KNN que el arbol con profundidad maxima de 3\")"
      ],
      "execution_count": 60,
      "outputs": [
        {
          "output_type": "stream",
          "text": [
            "Es mejor el arbol con la profundidad maxima de 3 \n",
            "Es mejor el arbol con la profundidad maxima de 3 \n",
            "Es mejor el arbol con la profundidad maxima de 3 \n",
            "Es mejor el arbol con la profundidad maxima de 3 \n"
          ],
          "name": "stdout"
        }
      ]
    },
    {
      "cell_type": "markdown",
      "metadata": {
        "id": "IWYayOXYSMn_"
      },
      "source": [
        "Punto 3 \n",
        "Redes Neuronales "
      ]
    },
    {
      "cell_type": "code",
      "metadata": {
        "id": "3mb4DfMUHaYK",
        "outputId": "660334cb-1f61-4f7c-ceb8-b3eadf11d8ff",
        "colab": {
          "base_uri": "https://localhost:8080/",
          "height": 34
        }
      },
      "source": [
        "from sklearn.neural_network import  MLPClassifier\n",
        "\n",
        "redNeuronal = MLPClassifier(max_iter=3000, hidden_layer_sizes=[25,82,30])\n",
        "redNeuronal.fit(datosEntrenamiento,respuestasEntrenamiento)\n",
        "score = redNeuronal.score(datosPrueba,respuestaPrueba)*100\n",
        "print (score)"
      ],
      "execution_count": 61,
      "outputs": [
        {
          "output_type": "stream",
          "text": [
            "28.947368421052634\n"
          ],
          "name": "stdout"
        }
      ]
    },
    {
      "cell_type": "markdown",
      "metadata": {
        "id": "ZQ4Tp9NoSSGq"
      },
      "source": [
        "Punto 4 \n",
        "Grafico de barras "
      ]
    },
    {
      "cell_type": "code",
      "metadata": {
        "id": "HIVpCqppIYxE",
        "outputId": "b166d4dd-e1ca-419d-b1b0-694cd3e316e1",
        "colab": {
          "base_uri": "https://localhost:8080/",
          "height": 312
        }
      },
      "source": [
        "score_clasificadores_total=[]\n",
        "score_clasificadores_total.append(knn4.score(datosPrueba,respuestaPrueba)*100)\n",
        "score_clasificadores_total.append(knn8.score(datosPrueba,respuestaPrueba)*100)\n",
        "score_clasificadores_total.append(knn12.score(datosPrueba,respuestaPrueba)*100)\n",
        "score_clasificadores_total.append(knn16.score(datosPrueba,respuestaPrueba)*100)\n",
        "score_clasificadores_total.append(arbol3.score(datosPrueba, respuestasPrueba)*100)\n",
        "score_clasificadores_total.append(redNeuronal.score(datosPrueba,respuestaPrueba)*100)\n",
        "\n",
        "print(\"el puntaje maximo fue\", max(score_clasificadores_total))\n",
        "\n",
        "import matplotlib.pyplot as plt\n",
        "clasificador = [\"KNN4\",\"KNN8\",\"KNN12\",\"KNN16\",\"ARBD3\",\"REDN3000\"]\n",
        "plt.bar(clasificador,score_clasificadores_total)\n",
        "plt.ylabel(\"Porcentaje de acierto\")\n",
        "plt.xlabel(\"clasificador\")\n",
        "plt.title(\"COMPARACIÓN CLASIFICADORES \")\n",
        "plt.show()"
      ],
      "execution_count": 63,
      "outputs": [
        {
          "output_type": "stream",
          "text": [
            "el puntaje maximo fue 94.73684210526315\n"
          ],
          "name": "stdout"
        },
        {
          "output_type": "display_data",
          "data": {
            "image/png": "[encoded data removed]",
            "text/plain": [
              "<Figure size 432x288 with 1 Axes>"
            ]
          },
          "metadata": {
            "tags": [],
            "needs_background": "light"
          }
        }
      ]
    },
    {
      "cell_type": "markdown",
      "metadata": {
        "id": "m54MCAXySVQN"
      },
      "source": [
        "Punto 5 \n",
        "Clasificadores No vistos en clase "
      ]
    },
    {
      "cell_type": "markdown",
      "metadata": {
        "id": "fajFAXZPSf0O"
      },
      "source": [
        "Clasificador 1 "
      ]
    },
    {
      "cell_type": "code",
      "metadata": {
        "id": "KJcqCARNNcXy",
        "outputId": "ac38ad3c-ec42-4fc9-c07e-45baaa08c4c7",
        "colab": {
          "base_uri": "https://localhost:8080/",
          "height": 34
        }
      },
      "source": [
        " from sklearn import svm\n",
        " X = [[0, 0], [1, 1]]\n",
        " y = [0, 1]\n",
        " clf = svm.SVC()\n",
        " clf.fit(X, y)\n",
        " clf.predict([[2., 2.]])\n",
        " # get support vectors\n",
        " clf.support_vectors_\n",
        " clf.support_\n",
        " # get number of support vectors for each class\n",
        " clf.n_support_"
      ],
      "execution_count": 72,
      "outputs": [
        {
          "output_type": "execute_result",
          "data": {
            "text/plain": [
              "array([1, 1], dtype=int32)"
            ]
          },
          "metadata": {
            "tags": []
          },
          "execution_count": 72
        }
      ]
    },
    {
      "cell_type": "markdown",
      "metadata": {
        "id": "dB2qAOmwSh1x"
      },
      "source": [
        "Clasificador 2 "
      ]
    },
    {
      "cell_type": "code",
      "metadata": {
        "id": "OyeTEK3kRDS7",
        "outputId": "732d9322-396b-49b5-8640-2252a82ba5cf",
        "colab": {
          "base_uri": "https://localhost:8080/",
          "height": 34
        }
      },
      "source": [
        "from sklearn.datasets import load_iris\n",
        "from sklearn.model_selection import train_test_split\n",
        "from sklearn.naive_bayes import GaussianNB\n",
        "X, y = load_iris(return_X_y=True)\n",
        "X_train, X_test, y_train, y_test = train_test_split(X, y, test_size=0.5, random_state=0)\n",
        "gnb = GaussianNB()\n",
        "y_pred = gnb.fit(X_train, y_train).predict(X_test)\n",
        "print(\"Number of mislabeled points out of a total %d points : %d\" % (X_test.shape[0], (y_test != y_pred).sum()))"
      ],
      "execution_count": 76,
      "outputs": [
        {
          "output_type": "stream",
          "text": [
            "Number of mislabeled points out of a total 75 points : 4\n"
          ],
          "name": "stdout"
        }
      ]
    }
  ]
}