{
  "nbformat": 4,
  "nbformat_minor": 0,
  "metadata": {
    "colab": {
      "name": "Parcial1.ipynb",
      "provenance": [],
      "collapsed_sections": []
    },
    "kernelspec": {
      "name": "python3",
      "display_name": "Python 3"
    }
  },
  "cells": [
    {
      "cell_type": "code",
      "metadata": {
        "id": "pC9vvEXtts1j",
        "colab_type": "code",
        "colab": {}
      },
      "source": [
        "import requests \n",
        "url = 'https://listado.mercadolibre.com.co/planchas-para-cabello#D[A:planchas%20para%20cabello]'\n",
        "response = requests.get (url)\n",
        "print (response)"
      ],
      "execution_count": null,
      "outputs": []
    },
    {
      "cell_type": "code",
      "metadata": {
        "id": "bW6qkJMivMr8",
        "colab_type": "code",
        "colab": {}
      },
      "source": [
        "import bs4\n",
        "parseo = bs4.BeautifulSoup (response.text, 'html.parser')\n",
        "getDataSelect = lambda clase : parseo.select(clase)\n",
        "dataTitle = parseo.select ('.ui-search-item__title')\n",
        "dataPrice = getDataSelect('.price-tag-fraction')\n",
        "print (dataTitle)\n",
        "print (dataPrice)\n",
        "nombrePlanchas2 = []\n",
        "nombrePlanchas = []\n",
        "funcionExtraerTexto = lambda elemento : elemento.text\n",
        "funcionListaDatos = lambda funcion, data :  list (map (funcion,data))\n",
        "nombrePlanchas = funcionListaDatos(funcionExtraerTexto, dataTitle)\n",
        "for elemento in dataTitle :\n",
        "  nombrePlanchas.append (elemento.text)\n",
        "\n",
        "print (nombrePlanchas)\n",
        "listaPrecios = funcionListaDatos(funcionExtraerTexto, dataPrice)\n",
        "print (listaPrecios)"
      ],
      "execution_count": null,
      "outputs": []
    },
    {
      "cell_type": "code",
      "metadata": {
        "id": "zyRBcEyhuxBY",
        "colab_type": "code",
        "colab": {}
      },
      "source": [
        "import pandas as pd\n",
        "dictPlanchas = {}\n",
        "dictPlanchas ['Titulos'] = nombrePlanchas[:112]\n",
        "print (len (nombrePlanchas), len (listaPrecios))\n",
        "dictPlanchas ['Precios'] = listaPrecios[:112]\n",
        "PlanchasDataFrame = pd.DataFrame(dictPlanchas)\n",
        "PlanchasDataFrame.to_csv('Planchas.csv', index=False)"
      ],
      "execution_count": null,
      "outputs": []
    },
    {
      "cell_type": "code",
      "metadata": {
        "id": "4l2mHo2uwXeh",
        "colab_type": "code",
        "colab": {}
      },
      "source": [
        "funcionAgregarPlanchas = lambda elemento : 'Planchas : ' + elemento\n",
        "titulosPlanchas = list (map(funcionAgregarPlanchas,nombrePlanchas))\n",
        "print (titulosPlanchas)\n",
        "titulosPlanchas2 = funcionListaDatos (funcionAgregarPlanchas, nombrePlanchas)\n",
        "print (titulosPlanchas2)\n",
        "dictPlanchas = {}\n",
        "dictPlanchas['Titulos'] = titulosPlanchas2[:112]\n",
        "dictPlanchas ['Precios'] = listaPrecios[:112]\n",
        "PlanchasDF = pd.DataFrame(dictPlanchas)\n",
        "PlanchasDF.to_csv('PlanchasMod.csv', index= False) "
      ],
      "execution_count": null,
      "outputs": []
    },
    {
      "cell_type": "code",
      "metadata": {
        "id": "NGhx0Lde2WGc",
        "colab_type": "code",
        "colab": {}
      },
      "source": [
        "Remington = lambda elemento : 'Remington' in elemento \n",
        "BabyLiss = lambda elemento : 'BabyLiss' in elemento\n",
        "\n",
        "listaRemington = list (filter(Remington, titulosPlanchas))\n",
        "listaBabyLiss = list (filter(BabyLiss, titulosPlanchas))\n",
        "print (listaRemington)\n",
        "print (listaBabyLiss)\n",
        "\n",
        "RemingtonSerie = pd.Series(listaRemington)\n",
        "RemingtonSerie.to_csv('Planchas Remington.csv',  index_label='Remington')\n",
        "BabyLissSerie = pd.Series(listaBabyLiss)\n",
        "BabyLissSerie.to_csv('Planchas BabyLiss.csv',  index_label='BabyLiss')"
      ],
      "execution_count": null,
      "outputs": []
    },
    {
      "cell_type": "code",
      "metadata": {
        "id": "FT8dUdV6xQFz",
        "colab_type": "code",
        "colab": {}
      },
      "source": [
        "nombresMenores = lambda elemento : len (elemento) < 80\n",
        "listaRemington=  list (filter (nombresMenores, listaRemington))\n",
        "print(listaRemington)\n",
        "listaRemington=pd.DataFrame(listaRemington)\n",
        "listaRemington.to_csv('PlanchasFiltradas.csv', index= False) "
      ],
      "execution_count": null,
      "outputs": []
    },
    {
      "cell_type": "code",
      "metadata": {
        "id": "RamSPdtLyaZu",
        "colab_type": "code",
        "colab": {}
      },
      "source": [
        "from functools import reduce\n",
        "lista= titulosPlanchas\n",
        "largo=lambda elemento: len(elemento)\n",
        "listalargos=list(map(largo,lista))\n",
        "print(listalargos)\n",
        "sumador=lambda elemento=0,acumulador=0:acumulador+elemento\n",
        "promedio= reduce(sumador,listalargos)/len(titulosPlanchas)\n",
        "print(promedio)"
      ],
      "execution_count": null,
      "outputs": []
    },
    {
      "cell_type": "code",
      "metadata": {
        "id": "H2ckJwVc1s8k",
        "colab_type": "code",
        "colab": {}
      },
      "source": [
        "PlanchasDF"
      ],
      "execution_count": null,
      "outputs": []
    },
    {
      "cell_type": "code",
      "metadata": {
        "id": "T3jyeg8Z6gJi",
        "colab_type": "code",
        "colab": {}
      },
      "source": [
        "print(RemingtonSerie)\n",
        "print(BabyLissSerie)"
      ],
      "execution_count": null,
      "outputs": []
    },
    {
      "cell_type": "code",
      "metadata": {
        "id": "bOCNHqVEBVp6",
        "colab_type": "code",
        "colab": {}
      },
      "source": [
        "from functools import reduce\n",
        "lista= dictPlanchas ['Precios']\n",
        "largo=lambda elemento: len(elemento)\n",
        "listalargos=list(map(largo,lista))\n",
        "print(listalargos)\n",
        "sumador=lambda elemento=0,acumulador=0:acumulador+elemento\n",
        "Dividir= reduce(sumador,listalargos)/len(dictPlanchas ['Precios'])\n",
        "print(Dividir)"
      ],
      "execution_count": null,
      "outputs": []
    }
  ]
}