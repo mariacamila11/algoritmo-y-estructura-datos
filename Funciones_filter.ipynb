{
  "nbformat": 4,
  "nbformat_minor": 0,
  "metadata": {
    "colab": {
      "name": "Funciones filter.ipynb",
      "provenance": []
    },
    "kernelspec": {
      "name": "python3",
      "display_name": "Python 3"
    }
  },
  "cells": [
    {
      "cell_type": "markdown",
      "metadata": {
        "id": "Ren82VhpFSAw",
        "colab_type": "text"
      },
      "source": [
        "# Funciones Filter\n",
        "Crear una función filter que haga lo siguiente:\n",
        "\n",
        "•\tDada una lista de números enteros devuelva otra con los números divisibles por 7 "
      ]
    },
    {
      "cell_type": "code",
      "metadata": {
        "id": "nTXjiCfcFV55",
        "colab_type": "code",
        "colab": {
          "base_uri": "https://localhost:8080/",
          "height": 34
        },
        "outputId": "9b2d2211-bf9b-42a8-b260-733ec8a04409"
      },
      "source": [
        "lista = [12,14,7,21,49,23,45,46,574,32,54]\n",
        "divSiete = lambda valor : valor % 7 == 0\n",
        "listaDivisibles = list (filter (divSiete, lista))\n",
        "print (listaDivisibles)"
      ],
      "execution_count": null,
      "outputs": [
        {
          "output_type": "stream",
          "text": [
            "[14, 7, 21, 49, 574]\n"
          ],
          "name": "stdout"
        }
      ]
    },
    {
      "cell_type": "markdown",
      "metadata": {
        "id": "O_SOQXczFWRn",
        "colab_type": "text"
      },
      "source": [
        "\n",
        "•\tDada una lista de nombres de estudiante devuelva otra con los nombres de un largo menor a 5.\n",
        "\n",
        "\n"
      ]
    },
    {
      "cell_type": "code",
      "metadata": {
        "id": "JD_hH2bOF9FP",
        "colab_type": "code",
        "colab": {
          "base_uri": "https://localhost:8080/",
          "height": 34
        },
        "outputId": "4ca90a97-f61d-413c-e802-d23e6347518b"
      },
      "source": [
        "nombres = ['Mafer', 'Daniel', 'Ana','Sara', 'Jorge', 'Yamith', 'Ema','Jair']\n",
        "nombresCortos = lambda elemento : len (elemento) < 5\n",
        "listaNombresFiltrados = list (filter (nombresCortos, nombres))\n",
        "print (listaNombresFiltrados)"
      ],
      "execution_count": null,
      "outputs": [
        {
          "output_type": "stream",
          "text": [
            "['Ana', 'Sara', 'Ema', 'Jair']\n"
          ],
          "name": "stdout"
        }
      ]
    },
    {
      "cell_type": "markdown",
      "metadata": {
        "id": "BNmSLosvF_rQ",
        "colab_type": "text"
      },
      "source": [
        "•\tDada una lista de números devuelva los pares\n"
      ]
    },
    {
      "cell_type": "code",
      "metadata": {
        "id": "QgBW2ghZGlrX",
        "colab_type": "code",
        "colab": {
          "base_uri": "https://localhost:8080/",
          "height": 34
        },
        "outputId": "a8da3fd7-d447-4a29-c5ad-34f2a96291f0"
      },
      "source": [
        "lista = [12,14,7,21,49,23,45,46,574,32,54]\n",
        "pares = lambda elemento : elemento % 2 == 0\n",
        "listaPares = list (filter(pares, lista))\n",
        "print (listaPares)"
      ],
      "execution_count": null,
      "outputs": [
        {
          "output_type": "stream",
          "text": [
            "[12, 14, 46, 574, 32, 54]\n"
          ],
          "name": "stdout"
        }
      ]
    },
    {
      "cell_type": "markdown",
      "metadata": {
        "id": "piyqCbnGGmYI",
        "colab_type": "text"
      },
      "source": [
        "•\tDada una lista de números devuelva los impares\n"
      ]
    },
    {
      "cell_type": "code",
      "metadata": {
        "id": "q2y5bCUXHWIZ",
        "colab_type": "code",
        "colab": {
          "base_uri": "https://localhost:8080/",
          "height": 34
        },
        "outputId": "a3ec570e-9fe7-47ba-eda8-49f481b8934a"
      },
      "source": [
        "lista = [12,14,7,21,49,23,45,46,574,32,54]\n",
        "impares = lambda elemento : elemento % 2 != 0\n",
        "listaImpares = list (filter(impares, lista))\n",
        "print (listaImpares)"
      ],
      "execution_count": null,
      "outputs": [
        {
          "output_type": "stream",
          "text": [
            "[7, 21, 49, 23, 45]\n"
          ],
          "name": "stdout"
        }
      ]
    },
    {
      "cell_type": "markdown",
      "metadata": {
        "id": "0-MT550jHaNw",
        "colab_type": "text"
      },
      "source": [
        "•\tDada una lista de nombres devuelva únicamente aquellos que inician con la letra E\n"
      ]
    },
    {
      "cell_type": "code",
      "metadata": {
        "id": "sNWQPCAcHo1_",
        "colab_type": "code",
        "colab": {
          "base_uri": "https://localhost:8080/",
          "height": 34
        },
        "outputId": "8f85ce02-268e-49c3-cd95-820ab20e58e7"
      },
      "source": [
        "nombres = ['Mafer', 'Daniel', 'Ana','Sara', 'Jorge', 'Yamith', 'Ema','Jair','Elena','Emanuel']\n",
        "nombresE = lambda elemento : elemento[0] ==  'E'\n",
        "listaNombresFiltrados = list (filter (nombresE, nombres))\n",
        "print (listaNombresFiltrados)"
      ],
      "execution_count": null,
      "outputs": [
        {
          "output_type": "stream",
          "text": [
            "['Ema', 'Elena', 'Emanuel']\n"
          ],
          "name": "stdout"
        }
      ]
    },
    {
      "cell_type": "markdown",
      "metadata": {
        "id": "cdeFus-8HpHf",
        "colab_type": "text"
      },
      "source": [
        "•\tDada una lista de edades solo devuelva los mayores de edad \n"
      ]
    },
    {
      "cell_type": "code",
      "metadata": {
        "id": "BYYOkvYxHriQ",
        "colab_type": "code",
        "colab": {
          "base_uri": "https://localhost:8080/",
          "height": 34
        },
        "outputId": "4e86cf61-d0ac-4164-f04a-2791c809a2d4"
      },
      "source": [
        "listaEdades = [12,14,7,21,49,23,45,46,74,32,54]\n",
        "mayores = lambda elemento : elemento >= 18\n",
        "listaMayores = list (filter(mayores, listaEdades))\n",
        "print (listaMayores)"
      ],
      "execution_count": null,
      "outputs": [
        {
          "output_type": "stream",
          "text": [
            "[21, 49, 23, 45, 46, 74, 32, 54]\n"
          ],
          "name": "stdout"
        }
      ]
    },
    {
      "cell_type": "markdown",
      "metadata": {
        "id": "skWOqj9hHrt3",
        "colab_type": "text"
      },
      "source": [
        "•\tDada una lista frases devuelva únicamente aquellas frases que no tengan la palabra “odian”"
      ]
    },
    {
      "cell_type": "code",
      "metadata": {
        "id": "by41S887IVsx",
        "colab_type": "code",
        "colab": {
          "base_uri": "https://localhost:8080/",
          "height": 54
        },
        "outputId": "d8c5f6a9-bc6d-497b-d3e6-d1d539bec494"
      },
      "source": [
        "frases = ['Todos debemos ser positivos',\n",
        "          'Aquellos que odian la derrota estan destinados a no crecer',\n",
        "          'Hay hombres que hacen sentir pequeños a otros pero los hombres realmente grandes hacen sentir gigantes a los que lo rodean',\n",
        "          'Sobre todo lo que quieres cambiar cambia tu mente pues es el único terreno que te pertenece cabalmente',\n",
        "          'Aquellos que odian a su projimo acarrearan mala salud a su vida',\n",
        "          'la gente muere cuando es olvidada',\n",
        "          'Te acuerdas de tu tataraabuelo? crees que tu tataranieto se acuerde de ti?']\n",
        "noAlOdio = lambda elemento : 'odian' not in elemento\n",
        "frasesFiltradas = list (filter(noAlOdio, frases))\n",
        "print (frasesFiltradas)"
      ],
      "execution_count": null,
      "outputs": [
        {
          "output_type": "stream",
          "text": [
            "['Todos debemos ser positivos', 'Hay hombres que hacen sentir pequeños a otros pero los hombres realmente grandes hacen sentir gigantes a los que lo rodean', 'Sobre todo lo que quieres cambiar cambia tu mente pues es el único terreno que te pertenece cabalmente', 'la gente muere cuando es olvidada', 'Te acuerdas de tu tataraabuelo? crees que tu tataranieto se acuerde de ti?']\n"
          ],
          "name": "stdout"
        }
      ]
    }
  ]
}