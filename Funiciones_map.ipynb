{
  "nbformat": 4,
  "nbformat_minor": 0,
  "metadata": {
    "colab": {
      "name": "Funiciones map.ipynb",
      "provenance": []
    },
    "kernelspec": {
      "name": "python3",
      "display_name": "Python 3"
    }
  },
  "cells": [
    {
      "cell_type": "markdown",
      "metadata": {
        "id": "yRcn6syp_bGV",
        "colab_type": "text"
      },
      "source": [
        "# Funciones Map\n",
        "\n",
        "Crear una función map que haga lo siguiente:\n",
        "\n",
        "•\tDevuelva el cuadrado de cada elemento de la lista"
      ]
    },
    {
      "cell_type": "code",
      "metadata": {
        "id": "-XzEdqkh_auH",
        "colab_type": "code",
        "colab": {
          "base_uri": "https://localhost:8080/",
          "height": 34
        },
        "outputId": "738b3956-1e6f-41dd-d49c-49539cd5ce38"
      },
      "source": [
        "potenciador = lambda valor : valor ** 2\n",
        "lista = [2,5,6,12,25,43,21]\n",
        "listaCuadrados = list (map(potenciador, lista))\n",
        "print (listaCuadrados)"
      ],
      "execution_count": null,
      "outputs": [
        {
          "output_type": "stream",
          "text": [
            "[4, 25, 36, 144, 625, 1849, 441]\n"
          ],
          "name": "stdout"
        }
      ]
    },
    {
      "cell_type": "markdown",
      "metadata": {
        "id": "OupcQZcm_hF1",
        "colab_type": "text"
      },
      "source": [
        "\n",
        "•\tDivida a todos los elementos de la lista por el mayor número de la misma\n",
        "\n",
        "\n"
      ]
    },
    {
      "cell_type": "code",
      "metadata": {
        "id": "xWFjTpurB-w9",
        "colab_type": "code",
        "colab": {
          "base_uri": "https://localhost:8080/",
          "height": 54
        },
        "outputId": "0f533897-5d4b-4237-9b1f-42c1dbe5e864"
      },
      "source": [
        "lista = [2,5,6,12,25,43,21]\n",
        "maximo = max (lista)\n",
        "normalizador = lambda valor : valor / maximo\n",
        "listaNormalizada = list (map(normalizador, lista))\n",
        "print (listaNormalizada)"
      ],
      "execution_count": null,
      "outputs": [
        {
          "output_type": "stream",
          "text": [
            "[0.046511627906976744, 0.11627906976744186, 0.13953488372093023, 0.27906976744186046, 0.5813953488372093, 1.0, 0.4883720930232558]\n"
          ],
          "name": "stdout"
        }
      ]
    },
    {
      "cell_type": "markdown",
      "metadata": {
        "id": "cPMuXnJ0B_T1",
        "colab_type": "text"
      },
      "source": [
        "\n",
        "•\tLe reste un número n a la lista \n",
        "\n"
      ]
    },
    {
      "cell_type": "code",
      "metadata": {
        "id": "qQgglLyfCA7x",
        "colab_type": "code",
        "colab": {
          "base_uri": "https://localhost:8080/",
          "height": 34
        },
        "outputId": "cabba147-0cc4-43d6-a9ac-cd87e363a9d9"
      },
      "source": [
        "lista = [2,5,6,12,25,43,21]\n",
        "valor_n = 2\n",
        "restador = lambda elemento : elemento  - valor_n\n",
        "\n",
        "listaRestada = list (map(restador, lista))\n",
        "print (listaRestada)"
      ],
      "execution_count": null,
      "outputs": [
        {
          "output_type": "stream",
          "text": [
            "[0, 3, 4, 10, 23, 41, 19]\n"
          ],
          "name": "stdout"
        }
      ]
    },
    {
      "cell_type": "markdown",
      "metadata": {
        "id": "K5PW7fK_CGt9",
        "colab_type": "text"
      },
      "source": [
        "•\tLe sume un número n a la lista"
      ]
    },
    {
      "cell_type": "code",
      "metadata": {
        "id": "WHUXmJP1CB2R",
        "colab_type": "code",
        "colab": {
          "base_uri": "https://localhost:8080/",
          "height": 34
        },
        "outputId": "d5dacefb-e3d5-4291-cff5-decfa1cc3bfc"
      },
      "source": [
        "lista = [2,5,6,12,25,43,21]\n",
        "valor_n = 2\n",
        "sumador = lambda elemento : elemento  + valor_n\n",
        "\n",
        "listaSumada = list (map(sumador, lista))\n",
        "print (listaSumada)"
      ],
      "execution_count": null,
      "outputs": [
        {
          "output_type": "stream",
          "text": [
            "[4, 7, 8, 14, 27, 45, 23]\n"
          ],
          "name": "stdout"
        }
      ]
    },
    {
      "cell_type": "markdown",
      "metadata": {
        "id": "1vfbvjOcCCHx",
        "colab_type": "text"
      },
      "source": [
        "•\tTodos los elementos multiplicados * 5"
      ]
    },
    {
      "cell_type": "code",
      "metadata": {
        "id": "5cRnhMtSCrvg",
        "colab_type": "code",
        "colab": {
          "base_uri": "https://localhost:8080/",
          "height": 34
        },
        "outputId": "dc9cbe07-61d4-487c-87f7-9640d60d46cf"
      },
      "source": [
        "lista = [2,5,6,12,25,43,21]\n",
        "multiplo = 5\n",
        "multiplicador = lambda elemento : elemento * multiplo\n",
        "\n",
        "listaRestada = list (map(multiplicador, lista))\n",
        "print (listaRestada)"
      ],
      "execution_count": null,
      "outputs": [
        {
          "output_type": "stream",
          "text": [
            "[10, 25, 30, 60, 125, 215, 105]\n"
          ],
          "name": "stdout"
        }
      ]
    }
  ]
}