{
  "nbformat": 4,
  "nbformat_minor": 0,
  "metadata": {
    "colab": {
      "name": "Taller Parcial.ipynb",
      "provenance": []
    },
    "kernelspec": {
      "name": "python3",
      "display_name": "Python 3"
    }
  },
  "cells": [
    {
      "cell_type": "code",
      "metadata": {
        "id": "7BRsDbciy7sa",
        "colab_type": "code",
        "colab": {
          "base_uri": "https://localhost:8080/",
          "height": 34
        },
        "outputId": "72495dbf-3e75-4e71-b5a2-ab222a771720"
      },
      "source": [
        "import requests \n",
        "url = 'https://listado.mercadolibre.com.co/carros#D[A:carros]'\n",
        "response = requests.get (url)\n",
        "print (response)"
      ],
      "execution_count": null,
      "outputs": [
        {
          "output_type": "stream",
          "text": [
            "<Response [200]>\n"
          ],
          "name": "stdout"
        }
      ]
    },
    {
      "cell_type": "code",
      "metadata": {
        "id": "ZC2LOspa0dFJ",
        "colab_type": "code",
        "colab": {
          "base_uri": "https://localhost:8080/",
          "height": 123
        },
        "outputId": "ddca1334-3708-495b-d216-aaacda4ee1b2"
      },
      "source": [
        "import bs4\n",
        "parseo = bs4.BeautifulSoup (response.text, 'html.parser')\n",
        "getDataSelect = lambda clase : parseo.select(clase)\n",
        "dataTitle = parseo.select ('.ui-search-item__title')\n",
        "dataPrice = getDataSelect('.price-tag-fraction')\n",
        "print (dataTitle)\n",
        "print (dataPrice)\n",
        "nombreCarros2 = []\n",
        "nombreCarros = []\n",
        "funcionExtraerTexto = lambda elemento : elemento.text\n",
        "funcionListaDatos = lambda funcion, data :  list (map (funcion,data))\n",
        "nombreCarros = funcionListaDatos(funcionExtraerTexto, dataTitle)\n",
        "for elemento in dataTitle :\n",
        "  nombreCarros2.append (elemento.text)\n",
        "\n",
        "print (nombreCarros)\n",
        "print (nombreCarros)\n",
        "listaPrecios = funcionListaDatos(funcionExtraerTexto, dataPrice)\n",
        "print (listaPrecios)\n"
      ],
      "execution_count": null,
      "outputs": [
        {
          "output_type": "stream",
          "text": [
            "[<h2 class=\"ui-search-item__title ui-search-item__group__element\">Renault Sandero Authentique</h2>, <h2 class=\"ui-search-item__title ui-search-item__group__element\">Chevrolet Spark Mt</h2>, <h2 class=\"ui-search-item__title ui-search-item__group__element\">Chevrolet Aveo Aveo Familiy Mt1500cc</h2>, <h2 class=\"ui-search-item__title ui-search-item__group__element\">Renault Duster Expression Mt 1600cc 4x2</h2>, <h2 class=\"ui-search-item__title ui-search-item__group__element\">Toyota Hilux Hilux</h2>, <h2 class=\"ui-search-item__title ui-search-item__group__element\">Chevrolet Spark Mt Sa</h2>, <h2 class=\"ui-search-item__title ui-search-item__group__element\">Chevrolet Spark Life Full Aire Acondicionado Abs</h2>, <h2 class=\"ui-search-item__title ui-search-item__group__element\">Renault Sandero Dinamique 1600cc At. Automio. Compra Tu Vehículo Fácil, Rápido Y Seguro. Recibimos Tu Vehículo De Mayor O Menor Valor.</h2>, <h2 class=\"ui-search-item__title ui-search-item__group__element\">Renault Kwid Outsider</h2>, <h2 class=\"ui-search-item__title ui-search-item__group__element\">Ford Ecosport 2020</h2>, <h2 class=\"ui-search-item__title ui-search-item__group__element\">Toyota Rav4 Rav 4 Mt2000cc</h2>, <h2 class=\"ui-search-item__title ui-search-item__group__element\">Citroën C4 C4 Cactus</h2>, <h2 class=\"ui-search-item__title ui-search-item__group__element\">Suzuki Vitara Full</h2>, <h2 class=\"ui-search-item__title ui-search-item__group__element\">Suzuki S-cross Otros</h2>, <h2 class=\"ui-search-item__title ui-search-item__group__element\">Chevrolet Beat Ltz 1.2 Mt</h2>, <h2 class=\"ui-search-item__title ui-search-item__group__element\">Chevrolet Aveo Aveo Familiy Mt1500cc</h2>, <h2 class=\"ui-search-item__title ui-search-item__group__element\">Ford Explorer Explorer Xlt Mt4000cc</h2>, <h2 class=\"ui-search-item__title ui-search-item__group__element\">Renault Kwid 2021 0 Km</h2>, <h2 class=\"ui-search-item__title ui-search-item__group__element\">Chevrolet Blazer Blazer</h2>, <h2 class=\"ui-search-item__title ui-search-item__group__element\">Suzuki Vitara Mc 4x2 Mecánica 2020</h2>, <h2 class=\"ui-search-item__title ui-search-item__group__element\">Seat Ibiza Ibiza Sport</h2>, <h2 class=\"ui-search-item__title ui-search-item__group__element\">Mazda Mazda 6 2.3 At</h2>, <h2 class=\"ui-search-item__title ui-search-item__group__element\">Jeep Wrangler Wrangler Sport</h2>, <h2 class=\"ui-search-item__title ui-search-item__group__element\">Nissan Frontier Le Np 300 Le At Td 4x4</h2>, <h2 class=\"ui-search-item__title ui-search-item__group__element\">Toyota Fortuner Plus 3.0 At 4x4</h2>, <h2 class=\"ui-search-item__title ui-search-item__group__element\">Suzuki Vitara Glx  4x4  Techo Panoramico</h2>, <h2 class=\"ui-search-item__title ui-search-item__group__element\">Renault Sandero Authentique</h2>, <h2 class=\"ui-search-item__title ui-search-item__group__element\">Chevrolet Luv D-max Chevrolet D-max Dc 2.5</h2>, <h2 class=\"ui-search-item__title ui-search-item__group__element\">Chevrolet Optra 1.8 At Limited</h2>, <h2 class=\"ui-search-item__title ui-search-item__group__element\">Nissan Frontier Np 300 Dc 4x2  Diesel 3228804932-3105633327- 3202214227- 3116650937-sotileza Automoviles. Compra Online Tramitamos Tu Credito En Linea. Año</h2>, <h2 class=\"ui-search-item__title ui-search-item__group__element\">Kia Carens Lx Mt 1800cc</h2>, <h2 class=\"ui-search-item__title ui-search-item__group__element\">Ford Fiesta Ford Fiesta Se</h2>, <h2 class=\"ui-search-item__title ui-search-item__group__element\">Renault Sandero Renault Sandero Ph2 Life</h2>, <h2 class=\"ui-search-item__title ui-search-item__group__element\">Chevrolet Vitara 4x4</h2>, <h2 class=\"ui-search-item__title ui-search-item__group__element\">Daewoo Nubira Daewoo Nubira</h2>, <h2 class=\"ui-search-item__title ui-search-item__group__element\">Changhe Van Changhe Freedom 11 Pasajeros</h2>, <h2 class=\"ui-search-item__title ui-search-item__group__element\">Mitsubishi Montero Sport</h2>, <h2 class=\"ui-search-item__title ui-search-item__group__element\">Bmw Serie 3 Cabriolet Paquete M</h2>, <h2 class=\"ui-search-item__title ui-search-item__group__element\">Ssangyong Actyon Doble Cabina Sport 4x4</h2>, <h2 class=\"ui-search-item__title ui-search-item__group__element\">Kia Cerato Pro Ceratro Pro Ex</h2>, <h2 class=\"ui-search-item__title ui-search-item__group__element\">Mazda Mazda 3 Mazda 3 Basico 2.0</h2>, <h2 class=\"ui-search-item__title ui-search-item__group__element\">Kia Rio Ub Ex ¿full Equipo¿</h2>, <h2 class=\"ui-search-item__title ui-search-item__group__element\">Chevrolet Cruze Platinium</h2>, <h2 class=\"ui-search-item__title ui-search-item__group__element\">Suzuki S-cross New Scross Mt 2020</h2>, <h2 class=\"ui-search-item__title ui-search-item__group__element\">Renault R9 Sedan</h2>, <h2 class=\"ui-search-item__title ui-search-item__group__element\">Jeep Grand Cherokee Limited</h2>, <h2 class=\"ui-search-item__title ui-search-item__group__element\">Chevrolet Captiva 2400cc Techo Fe</h2>, <h2 class=\"ui-search-item__title ui-search-item__group__element\">Chevrolet Luv 2300 4x2 Tfr</h2>]\n",
            "[<span class=\"price-tag-fraction\">59.500.000</span>, <span class=\"price-tag-fraction\">21.900.000</span>, <span class=\"price-tag-fraction\">12.999.000</span>, <span class=\"price-tag-fraction\">17.900.000</span>, <span class=\"price-tag-fraction\">49.657.000</span>, <span class=\"price-tag-fraction\">129.999.000</span>, <span class=\"price-tag-fraction\">12.999.000</span>, <span class=\"price-tag-fraction\">17.800.000</span>, <span class=\"price-tag-fraction\">19.900.000</span>, <span class=\"price-tag-fraction\">39.870.000</span>, <span class=\"price-tag-fraction\">59.490.000</span>, <span class=\"price-tag-fraction\">22.600.000</span>, <span class=\"price-tag-fraction\">69.450.000</span>, <span class=\"price-tag-fraction\">63.990.000</span>, <span class=\"price-tag-fraction\">58.990.000</span>, <span class=\"price-tag-fraction\">28.890.000</span>, <span class=\"price-tag-fraction\">17.700.000</span>, <span class=\"price-tag-fraction\">22.800.000</span>, <span class=\"price-tag-fraction\">36.690.000</span>, <span class=\"price-tag-fraction\">11.800.000</span>, <span class=\"price-tag-fraction\">61.990.000</span>, <span class=\"price-tag-fraction\">30.000.000</span>, <span class=\"price-tag-fraction\">19.990.000</span>, <span class=\"price-tag-fraction\">57.800.000</span>, <span class=\"price-tag-fraction\">104.999.000</span>, <span class=\"price-tag-fraction\">72.990.000</span>, <span class=\"price-tag-fraction\">78.990.000</span>, <span class=\"price-tag-fraction\">22.500.000</span>, <span class=\"price-tag-fraction\">79.900.000</span>, <span class=\"price-tag-fraction\">14.300.000</span>, <span class=\"price-tag-fraction\">42.900.000</span>, <span class=\"price-tag-fraction\">15.500.000</span>, <span class=\"price-tag-fraction\">23.990.000</span>, <span class=\"price-tag-fraction\">41.490.000</span>, <span class=\"price-tag-fraction\">19.800.000</span>, <span class=\"price-tag-fraction\">8.900.000</span>, <span class=\"price-tag-fraction\">19.800.000</span>, <span class=\"price-tag-fraction\">68.000.000</span>, <span class=\"price-tag-fraction\">76.000.000</span>, <span class=\"price-tag-fraction\">38.800.000</span>, <span class=\"price-tag-fraction\">36.600.000</span>, <span class=\"price-tag-fraction\">32.900.000</span>, <span class=\"price-tag-fraction\">35.500.000</span>, <span class=\"price-tag-fraction\">25.900.000</span>, <span class=\"price-tag-fraction\">57.990.000</span>, <span class=\"price-tag-fraction\">5.500.000</span>, <span class=\"price-tag-fraction\">18.000.000</span>, <span class=\"price-tag-fraction\">32.900.000</span>, <span class=\"price-tag-fraction\">24.800.000</span>]\n",
            "['Renault Sandero Authentique', 'Chevrolet Spark Mt', 'Chevrolet Aveo Aveo Familiy Mt1500cc', 'Renault Duster Expression Mt 1600cc 4x2', 'Toyota Hilux Hilux', 'Chevrolet Spark Mt Sa', 'Chevrolet Spark Life Full Aire Acondicionado Abs', 'Renault Sandero Dinamique 1600cc At. Automio. Compra Tu Vehículo Fácil, Rápido Y Seguro. Recibimos Tu Vehículo De Mayor O Menor Valor.', 'Renault Kwid Outsider', 'Ford Ecosport 2020', 'Toyota Rav4 Rav 4 Mt2000cc', 'Citroën C4 C4 Cactus', 'Suzuki Vitara Full', 'Suzuki S-cross Otros', 'Chevrolet Beat Ltz 1.2 Mt', 'Chevrolet Aveo Aveo Familiy Mt1500cc', 'Ford Explorer Explorer Xlt Mt4000cc', 'Renault Kwid 2021 0 Km', 'Chevrolet Blazer Blazer', 'Suzuki Vitara Mc 4x2 Mecánica 2020', 'Seat Ibiza Ibiza Sport', 'Mazda Mazda 6 2.3 At', 'Jeep Wrangler Wrangler Sport', 'Nissan Frontier Le Np 300 Le At Td 4x4', 'Toyota Fortuner Plus 3.0 At 4x4', 'Suzuki Vitara Glx  4x4  Techo Panoramico', 'Renault Sandero Authentique', 'Chevrolet Luv D-max Chevrolet D-max Dc 2.5', 'Chevrolet Optra 1.8 At Limited', 'Nissan Frontier Np 300 Dc 4x2  Diesel 3228804932-3105633327- 3202214227- 3116650937-sotileza Automoviles. Compra Online Tramitamos Tu Credito En Linea. Año', 'Kia Carens Lx Mt 1800cc', 'Ford Fiesta Ford Fiesta Se', 'Renault Sandero Renault Sandero Ph2 Life', 'Chevrolet Vitara 4x4', 'Daewoo Nubira Daewoo Nubira', 'Changhe Van Changhe Freedom 11 Pasajeros', 'Mitsubishi Montero Sport', 'Bmw Serie 3 Cabriolet Paquete M', 'Ssangyong Actyon Doble Cabina Sport 4x4', 'Kia Cerato Pro Ceratro Pro Ex', 'Mazda Mazda 3 Mazda 3 Basico 2.0', 'Kia Rio Ub Ex ¿full Equipo¿', 'Chevrolet Cruze Platinium', 'Suzuki S-cross New Scross Mt 2020', 'Renault R9 Sedan', 'Jeep Grand Cherokee Limited', 'Chevrolet Captiva 2400cc Techo Fe', 'Chevrolet Luv 2300 4x2 Tfr']\n",
            "['Renault Sandero Authentique', 'Chevrolet Spark Mt', 'Chevrolet Aveo Aveo Familiy Mt1500cc', 'Renault Duster Expression Mt 1600cc 4x2', 'Toyota Hilux Hilux', 'Chevrolet Spark Mt Sa', 'Chevrolet Spark Life Full Aire Acondicionado Abs', 'Renault Sandero Dinamique 1600cc At. Automio. Compra Tu Vehículo Fácil, Rápido Y Seguro. Recibimos Tu Vehículo De Mayor O Menor Valor.', 'Renault Kwid Outsider', 'Ford Ecosport 2020', 'Toyota Rav4 Rav 4 Mt2000cc', 'Citroën C4 C4 Cactus', 'Suzuki Vitara Full', 'Suzuki S-cross Otros', 'Chevrolet Beat Ltz 1.2 Mt', 'Chevrolet Aveo Aveo Familiy Mt1500cc', 'Ford Explorer Explorer Xlt Mt4000cc', 'Renault Kwid 2021 0 Km', 'Chevrolet Blazer Blazer', 'Suzuki Vitara Mc 4x2 Mecánica 2020', 'Seat Ibiza Ibiza Sport', 'Mazda Mazda 6 2.3 At', 'Jeep Wrangler Wrangler Sport', 'Nissan Frontier Le Np 300 Le At Td 4x4', 'Toyota Fortuner Plus 3.0 At 4x4', 'Suzuki Vitara Glx  4x4  Techo Panoramico', 'Renault Sandero Authentique', 'Chevrolet Luv D-max Chevrolet D-max Dc 2.5', 'Chevrolet Optra 1.8 At Limited', 'Nissan Frontier Np 300 Dc 4x2  Diesel 3228804932-3105633327- 3202214227- 3116650937-sotileza Automoviles. Compra Online Tramitamos Tu Credito En Linea. Año', 'Kia Carens Lx Mt 1800cc', 'Ford Fiesta Ford Fiesta Se', 'Renault Sandero Renault Sandero Ph2 Life', 'Chevrolet Vitara 4x4', 'Daewoo Nubira Daewoo Nubira', 'Changhe Van Changhe Freedom 11 Pasajeros', 'Mitsubishi Montero Sport', 'Bmw Serie 3 Cabriolet Paquete M', 'Ssangyong Actyon Doble Cabina Sport 4x4', 'Kia Cerato Pro Ceratro Pro Ex', 'Mazda Mazda 3 Mazda 3 Basico 2.0', 'Kia Rio Ub Ex ¿full Equipo¿', 'Chevrolet Cruze Platinium', 'Suzuki S-cross New Scross Mt 2020', 'Renault R9 Sedan', 'Jeep Grand Cherokee Limited', 'Chevrolet Captiva 2400cc Techo Fe', 'Chevrolet Luv 2300 4x2 Tfr']\n",
            "['59.500.000', '21.900.000', '12.999.000', '17.900.000', '49.657.000', '129.999.000', '12.999.000', '17.800.000', '19.900.000', '39.870.000', '59.490.000', '22.600.000', '69.450.000', '63.990.000', '58.990.000', '28.890.000', '17.700.000', '22.800.000', '36.690.000', '11.800.000', '61.990.000', '30.000.000', '19.990.000', '57.800.000', '104.999.000', '72.990.000', '78.990.000', '22.500.000', '79.900.000', '14.300.000', '42.900.000', '15.500.000', '23.990.000', '41.490.000', '19.800.000', '8.900.000', '19.800.000', '68.000.000', '76.000.000', '38.800.000', '36.600.000', '32.900.000', '35.500.000', '25.900.000', '57.990.000', '5.500.000', '18.000.000', '32.900.000', '24.800.000']\n"
          ],
          "name": "stdout"
        }
      ]
    },
    {
      "cell_type": "code",
      "metadata": {
        "id": "HlU6q8F74oo4",
        "colab_type": "code",
        "colab": {
          "base_uri": "https://localhost:8080/",
          "height": 34
        },
        "outputId": "87c97a92-97d2-4234-ba62-805e21f799ee"
      },
      "source": [
        "import pandas as pd\n",
        "dictCarros = {}\n",
        "dictCarros ['Titulos'] = nombreCarros[:20]\n",
        "print (len (nombreCarros), len (listaPrecios))\n",
        "dictCarros ['Precios'] = listaPrecios[:20]\n",
        "carrosDataFrame = pd.DataFrame(dictCarros)\n",
        "carrosDataFrame.to_csv('Carros.csv', index=False)\n",
        "\n"
      ],
      "execution_count": null,
      "outputs": [
        {
          "output_type": "stream",
          "text": [
            "48 49\n"
          ],
          "name": "stdout"
        }
      ]
    },
    {
      "cell_type": "code",
      "metadata": {
        "id": "yGn0KN8R6ijw",
        "colab_type": "code",
        "colab": {
          "base_uri": "https://localhost:8080/",
          "height": 71
        },
        "outputId": "4c5a1687-aa3d-4120-ffe1-eb2b23b01141"
      },
      "source": [
        "funcionAgregarCarro = lambda elemento : 'carro : ' + elemento\n",
        "titulosCarros = list (map(funcionAgregarCarro,nombreCarros))\n",
        "print (titulosCarros)\n",
        "titulosCarros2 = funcionListaDatos (funcionAgregarCarro, nombreCarros)\n",
        "print (titulosCarros2)\n",
        "dictCarros = {}\n",
        "dictCarros['Titulos'] = titulosCarros2[:20]\n",
        "dictCarros ['Precios'] = listaPrecios[:20]\n",
        "carrosDF = pd.DataFrame(dictCarros)\n",
        "carrosDF.to_csv('carrosMod.csv', index= False) \n",
        "\n"
      ],
      "execution_count": null,
      "outputs": [
        {
          "output_type": "stream",
          "text": [
            "['carro : Renault Sandero Authentique', 'carro : Chevrolet Spark Mt', 'carro : Chevrolet Aveo Aveo Familiy Mt1500cc', 'carro : Renault Duster Expression Mt 1600cc 4x2', 'carro : Toyota Hilux Hilux', 'carro : Chevrolet Spark Mt Sa', 'carro : Chevrolet Spark Life Full Aire Acondicionado Abs', 'carro : Renault Sandero Dinamique 1600cc At. Automio. Compra Tu Vehículo Fácil, Rápido Y Seguro. Recibimos Tu Vehículo De Mayor O Menor Valor.', 'carro : Renault Kwid Outsider', 'carro : Ford Ecosport 2020', 'carro : Toyota Rav4 Rav 4 Mt2000cc', 'carro : Citroën C4 C4 Cactus', 'carro : Suzuki Vitara Full', 'carro : Suzuki S-cross Otros', 'carro : Chevrolet Beat Ltz 1.2 Mt', 'carro : Chevrolet Aveo Aveo Familiy Mt1500cc', 'carro : Ford Explorer Explorer Xlt Mt4000cc', 'carro : Renault Kwid 2021 0 Km', 'carro : Chevrolet Blazer Blazer', 'carro : Suzuki Vitara Mc 4x2 Mecánica 2020', 'carro : Seat Ibiza Ibiza Sport', 'carro : Mazda Mazda 6 2.3 At', 'carro : Jeep Wrangler Wrangler Sport', 'carro : Nissan Frontier Le Np 300 Le At Td 4x4', 'carro : Toyota Fortuner Plus 3.0 At 4x4', 'carro : Suzuki Vitara Glx  4x4  Techo Panoramico', 'carro : Renault Sandero Authentique', 'carro : Chevrolet Luv D-max Chevrolet D-max Dc 2.5', 'carro : Chevrolet Optra 1.8 At Limited', 'carro : Nissan Frontier Np 300 Dc 4x2  Diesel 3228804932-3105633327- 3202214227- 3116650937-sotileza Automoviles. Compra Online Tramitamos Tu Credito En Linea. Año', 'carro : Kia Carens Lx Mt 1800cc', 'carro : Ford Fiesta Ford Fiesta Se', 'carro : Renault Sandero Renault Sandero Ph2 Life', 'carro : Chevrolet Vitara 4x4', 'carro : Daewoo Nubira Daewoo Nubira', 'carro : Changhe Van Changhe Freedom 11 Pasajeros', 'carro : Mitsubishi Montero Sport', 'carro : Bmw Serie 3 Cabriolet Paquete M', 'carro : Ssangyong Actyon Doble Cabina Sport 4x4', 'carro : Kia Cerato Pro Ceratro Pro Ex', 'carro : Mazda Mazda 3 Mazda 3 Basico 2.0', 'carro : Kia Rio Ub Ex ¿full Equipo¿', 'carro : Chevrolet Cruze Platinium', 'carro : Suzuki S-cross New Scross Mt 2020', 'carro : Renault R9 Sedan', 'carro : Jeep Grand Cherokee Limited', 'carro : Chevrolet Captiva 2400cc Techo Fe', 'carro : Chevrolet Luv 2300 4x2 Tfr']\n",
            "['carro : Renault Sandero Authentique', 'carro : Chevrolet Spark Mt', 'carro : Chevrolet Aveo Aveo Familiy Mt1500cc', 'carro : Renault Duster Expression Mt 1600cc 4x2', 'carro : Toyota Hilux Hilux', 'carro : Chevrolet Spark Mt Sa', 'carro : Chevrolet Spark Life Full Aire Acondicionado Abs', 'carro : Renault Sandero Dinamique 1600cc At. Automio. Compra Tu Vehículo Fácil, Rápido Y Seguro. Recibimos Tu Vehículo De Mayor O Menor Valor.', 'carro : Renault Kwid Outsider', 'carro : Ford Ecosport 2020', 'carro : Toyota Rav4 Rav 4 Mt2000cc', 'carro : Citroën C4 C4 Cactus', 'carro : Suzuki Vitara Full', 'carro : Suzuki S-cross Otros', 'carro : Chevrolet Beat Ltz 1.2 Mt', 'carro : Chevrolet Aveo Aveo Familiy Mt1500cc', 'carro : Ford Explorer Explorer Xlt Mt4000cc', 'carro : Renault Kwid 2021 0 Km', 'carro : Chevrolet Blazer Blazer', 'carro : Suzuki Vitara Mc 4x2 Mecánica 2020', 'carro : Seat Ibiza Ibiza Sport', 'carro : Mazda Mazda 6 2.3 At', 'carro : Jeep Wrangler Wrangler Sport', 'carro : Nissan Frontier Le Np 300 Le At Td 4x4', 'carro : Toyota Fortuner Plus 3.0 At 4x4', 'carro : Suzuki Vitara Glx  4x4  Techo Panoramico', 'carro : Renault Sandero Authentique', 'carro : Chevrolet Luv D-max Chevrolet D-max Dc 2.5', 'carro : Chevrolet Optra 1.8 At Limited', 'carro : Nissan Frontier Np 300 Dc 4x2  Diesel 3228804932-3105633327- 3202214227- 3116650937-sotileza Automoviles. Compra Online Tramitamos Tu Credito En Linea. Año', 'carro : Kia Carens Lx Mt 1800cc', 'carro : Ford Fiesta Ford Fiesta Se', 'carro : Renault Sandero Renault Sandero Ph2 Life', 'carro : Chevrolet Vitara 4x4', 'carro : Daewoo Nubira Daewoo Nubira', 'carro : Changhe Van Changhe Freedom 11 Pasajeros', 'carro : Mitsubishi Montero Sport', 'carro : Bmw Serie 3 Cabriolet Paquete M', 'carro : Ssangyong Actyon Doble Cabina Sport 4x4', 'carro : Kia Cerato Pro Ceratro Pro Ex', 'carro : Mazda Mazda 3 Mazda 3 Basico 2.0', 'carro : Kia Rio Ub Ex ¿full Equipo¿', 'carro : Chevrolet Cruze Platinium', 'carro : Suzuki S-cross New Scross Mt 2020', 'carro : Renault R9 Sedan', 'carro : Jeep Grand Cherokee Limited', 'carro : Chevrolet Captiva 2400cc Techo Fe', 'carro : Chevrolet Luv 2300 4x2 Tfr']\n"
          ],
          "name": "stdout"
        }
      ]
    },
    {
      "cell_type": "code",
      "metadata": {
        "id": "tghRxwab9Ld3",
        "colab_type": "code",
        "colab": {
          "base_uri": "https://localhost:8080/",
          "height": 71
        },
        "outputId": "46971e8a-77d1-49a1-b9c0-c96e3c2b3487"
      },
      "source": [
        "toyota = lambda elemento : 'Toyota' in elemento \n",
        "chevrolet = lambda elemento : 'Chevrolet' in elemento\n",
        "\n",
        "listaToyotas = list (filter(toyota, titulosCarros))\n",
        "listaChevrolet = list (filter(chevrolet, titulosCarros))\n",
        "print (listaToyotas)\n",
        "print (listaChevrolet)\n",
        "\n",
        "\n",
        "toyotaSerie = pd.Series(listaToyotas)\n",
        "toyotaSerie.to_csv('Carros toyota.csv',  index_label='Toyota')\n",
        "chevroletSerie = pd.Series(listaChevrolet)\n",
        "chevroletSerie.to_csv('Carros chevrolet.csv',  index_label='Chevrolet')\n",
        "\n"
      ],
      "execution_count": null,
      "outputs": [
        {
          "output_type": "stream",
          "text": [
            "['carro : Toyota Hilux Hilux', 'carro : Toyota Rav4 Rav 4 Mt2000cc', 'carro : Toyota Fortuner Plus 3.0 At 4x4']\n",
            "['carro : Chevrolet Spark Mt', 'carro : Chevrolet Aveo Aveo Familiy Mt1500cc', 'carro : Chevrolet Spark Mt Sa', 'carro : Chevrolet Spark Life Full Aire Acondicionado Abs', 'carro : Chevrolet Beat Ltz 1.2 Mt', 'carro : Chevrolet Aveo Aveo Familiy Mt1500cc', 'carro : Chevrolet Blazer Blazer', 'carro : Chevrolet Luv D-max Chevrolet D-max Dc 2.5', 'carro : Chevrolet Optra 1.8 At Limited', 'carro : Chevrolet Vitara 4x4', 'carro : Chevrolet Cruze Platinium', 'carro : Chevrolet Captiva 2400cc Techo Fe', 'carro : Chevrolet Luv 2300 4x2 Tfr']\n"
          ],
          "name": "stdout"
        }
      ]
    }
  ]
}