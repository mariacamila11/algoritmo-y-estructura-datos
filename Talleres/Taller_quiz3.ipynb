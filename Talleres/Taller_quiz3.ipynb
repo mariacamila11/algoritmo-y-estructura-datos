{
  "nbformat": 4,
  "nbformat_minor": 0,
  "metadata": {
    "colab": {
      "name": "Taller.ipynb",
      "provenance": []
    },
    "kernelspec": {
      "name": "python3",
      "display_name": "Python 3"
    }
  },
  "cells": [
    {
      "cell_type": "code",
      "metadata": {
        "id": "BL2HLs8mGovj",
        "outputId": "08ecb6c7-5c34-4e8e-ae5a-09f80462cf05",
        "colab": {
          "base_uri": "https://localhost:8080/",
          "height": 1000
        }
      },
      "source": [
        "import sklearn #Aprendizaje de máquina\n",
        "from sklearn.datasets import load_iris#SET DATOS\n",
        "from sklearn.model_selection import train_test_split#Division de datos\n",
        "#para entrenar y para verificar\n",
        "iris=load_iris()#cargar el set de datos\n",
        "#print(type(iris))\n",
        "print(iris.keys())\n",
        "print(iris['data'])\n",
        "print(iris['target_names'])\n",
        "print(iris['target'])\n",
        "print(iris['feature_names'])"
      ],
      "execution_count": 23,
      "outputs": [
        {
          "output_type": "stream",
          "text": [
            "dict_keys(['data', 'target', 'target_names', 'DESCR', 'feature_names', 'filename'])\n",
            "[[5.1 3.5 1.4 0.2]\n",
            " [4.9 3.  1.4 0.2]\n",
            " [4.7 3.2 1.3 0.2]\n",
            " [4.6 3.1 1.5 0.2]\n",
            " [5.  3.6 1.4 0.2]\n",
            " [5.4 3.9 1.7 0.4]\n",
            " [4.6 3.4 1.4 0.3]\n",
            " [5.  3.4 1.5 0.2]\n",
            " [4.4 2.9 1.4 0.2]\n",
            " [4.9 3.1 1.5 0.1]\n",
            " [5.4 3.7 1.5 0.2]\n",
            " [4.8 3.4 1.6 0.2]\n",
            " [4.8 3.  1.4 0.1]\n",
            " [4.3 3.  1.1 0.1]\n",
            " [5.8 4.  1.2 0.2]\n",
            " [5.7 4.4 1.5 0.4]\n",
            " [5.4 3.9 1.3 0.4]\n",
            " [5.1 3.5 1.4 0.3]\n",
            " [5.7 3.8 1.7 0.3]\n",
            " [5.1 3.8 1.5 0.3]\n",
            " [5.4 3.4 1.7 0.2]\n",
            " [5.1 3.7 1.5 0.4]\n",
            " [4.6 3.6 1.  0.2]\n",
            " [5.1 3.3 1.7 0.5]\n",
            " [4.8 3.4 1.9 0.2]\n",
            " [5.  3.  1.6 0.2]\n",
            " [5.  3.4 1.6 0.4]\n",
            " [5.2 3.5 1.5 0.2]\n",
            " [5.2 3.4 1.4 0.2]\n",
            " [4.7 3.2 1.6 0.2]\n",
            " [4.8 3.1 1.6 0.2]\n",
            " [5.4 3.4 1.5 0.4]\n",
            " [5.2 4.1 1.5 0.1]\n",
            " [5.5 4.2 1.4 0.2]\n",
            " [4.9 3.1 1.5 0.2]\n",
            " [5.  3.2 1.2 0.2]\n",
            " [5.5 3.5 1.3 0.2]\n",
            " [4.9 3.6 1.4 0.1]\n",
            " [4.4 3.  1.3 0.2]\n",
            " [5.1 3.4 1.5 0.2]\n",
            " [5.  3.5 1.3 0.3]\n",
            " [4.5 2.3 1.3 0.3]\n",
            " [4.4 3.2 1.3 0.2]\n",
            " [5.  3.5 1.6 0.6]\n",
            " [5.1 3.8 1.9 0.4]\n",
            " [4.8 3.  1.4 0.3]\n",
            " [5.1 3.8 1.6 0.2]\n",
            " [4.6 3.2 1.4 0.2]\n",
            " [5.3 3.7 1.5 0.2]\n",
            " [5.  3.3 1.4 0.2]\n",
            " [7.  3.2 4.7 1.4]\n",
            " [6.4 3.2 4.5 1.5]\n",
            " [6.9 3.1 4.9 1.5]\n",
            " [5.5 2.3 4.  1.3]\n",
            " [6.5 2.8 4.6 1.5]\n",
            " [5.7 2.8 4.5 1.3]\n",
            " [6.3 3.3 4.7 1.6]\n",
            " [4.9 2.4 3.3 1. ]\n",
            " [6.6 2.9 4.6 1.3]\n",
            " [5.2 2.7 3.9 1.4]\n",
            " [5.  2.  3.5 1. ]\n",
            " [5.9 3.  4.2 1.5]\n",
            " [6.  2.2 4.  1. ]\n",
            " [6.1 2.9 4.7 1.4]\n",
            " [5.6 2.9 3.6 1.3]\n",
            " [6.7 3.1 4.4 1.4]\n",
            " [5.6 3.  4.5 1.5]\n",
            " [5.8 2.7 4.1 1. ]\n",
            " [6.2 2.2 4.5 1.5]\n",
            " [5.6 2.5 3.9 1.1]\n",
            " [5.9 3.2 4.8 1.8]\n",
            " [6.1 2.8 4.  1.3]\n",
            " [6.3 2.5 4.9 1.5]\n",
            " [6.1 2.8 4.7 1.2]\n",
            " [6.4 2.9 4.3 1.3]\n",
            " [6.6 3.  4.4 1.4]\n",
            " [6.8 2.8 4.8 1.4]\n",
            " [6.7 3.  5.  1.7]\n",
            " [6.  2.9 4.5 1.5]\n",
            " [5.7 2.6 3.5 1. ]\n",
            " [5.5 2.4 3.8 1.1]\n",
            " [5.5 2.4 3.7 1. ]\n",
            " [5.8 2.7 3.9 1.2]\n",
            " [6.  2.7 5.1 1.6]\n",
            " [5.4 3.  4.5 1.5]\n",
            " [6.  3.4 4.5 1.6]\n",
            " [6.7 3.1 4.7 1.5]\n",
            " [6.3 2.3 4.4 1.3]\n",
            " [5.6 3.  4.1 1.3]\n",
            " [5.5 2.5 4.  1.3]\n",
            " [5.5 2.6 4.4 1.2]\n",
            " [6.1 3.  4.6 1.4]\n",
            " [5.8 2.6 4.  1.2]\n",
            " [5.  2.3 3.3 1. ]\n",
            " [5.6 2.7 4.2 1.3]\n",
            " [5.7 3.  4.2 1.2]\n",
            " [5.7 2.9 4.2 1.3]\n",
            " [6.2 2.9 4.3 1.3]\n",
            " [5.1 2.5 3.  1.1]\n",
            " [5.7 2.8 4.1 1.3]\n",
            " [6.3 3.3 6.  2.5]\n",
            " [5.8 2.7 5.1 1.9]\n",
            " [7.1 3.  5.9 2.1]\n",
            " [6.3 2.9 5.6 1.8]\n",
            " [6.5 3.  5.8 2.2]\n",
            " [7.6 3.  6.6 2.1]\n",
            " [4.9 2.5 4.5 1.7]\n",
            " [7.3 2.9 6.3 1.8]\n",
            " [6.7 2.5 5.8 1.8]\n",
            " [7.2 3.6 6.1 2.5]\n",
            " [6.5 3.2 5.1 2. ]\n",
            " [6.4 2.7 5.3 1.9]\n",
            " [6.8 3.  5.5 2.1]\n",
            " [5.7 2.5 5.  2. ]\n",
            " [5.8 2.8 5.1 2.4]\n",
            " [6.4 3.2 5.3 2.3]\n",
            " [6.5 3.  5.5 1.8]\n",
            " [7.7 3.8 6.7 2.2]\n",
            " [7.7 2.6 6.9 2.3]\n",
            " [6.  2.2 5.  1.5]\n",
            " [6.9 3.2 5.7 2.3]\n",
            " [5.6 2.8 4.9 2. ]\n",
            " [7.7 2.8 6.7 2. ]\n",
            " [6.3 2.7 4.9 1.8]\n",
            " [6.7 3.3 5.7 2.1]\n",
            " [7.2 3.2 6.  1.8]\n",
            " [6.2 2.8 4.8 1.8]\n",
            " [6.1 3.  4.9 1.8]\n",
            " [6.4 2.8 5.6 2.1]\n",
            " [7.2 3.  5.8 1.6]\n",
            " [7.4 2.8 6.1 1.9]\n",
            " [7.9 3.8 6.4 2. ]\n",
            " [6.4 2.8 5.6 2.2]\n",
            " [6.3 2.8 5.1 1.5]\n",
            " [6.1 2.6 5.6 1.4]\n",
            " [7.7 3.  6.1 2.3]\n",
            " [6.3 3.4 5.6 2.4]\n",
            " [6.4 3.1 5.5 1.8]\n",
            " [6.  3.  4.8 1.8]\n",
            " [6.9 3.1 5.4 2.1]\n",
            " [6.7 3.1 5.6 2.4]\n",
            " [6.9 3.1 5.1 2.3]\n",
            " [5.8 2.7 5.1 1.9]\n",
            " [6.8 3.2 5.9 2.3]\n",
            " [6.7 3.3 5.7 2.5]\n",
            " [6.7 3.  5.2 2.3]\n",
            " [6.3 2.5 5.  1.9]\n",
            " [6.5 3.  5.2 2. ]\n",
            " [6.2 3.4 5.4 2.3]\n",
            " [5.9 3.  5.1 1.8]]\n",
            "['setosa' 'versicolor' 'virginica']\n",
            "[0 0 0 0 0 0 0 0 0 0 0 0 0 0 0 0 0 0 0 0 0 0 0 0 0 0 0 0 0 0 0 0 0 0 0 0 0\n",
            " 0 0 0 0 0 0 0 0 0 0 0 0 0 1 1 1 1 1 1 1 1 1 1 1 1 1 1 1 1 1 1 1 1 1 1 1 1\n",
            " 1 1 1 1 1 1 1 1 1 1 1 1 1 1 1 1 1 1 1 1 1 1 1 1 1 1 2 2 2 2 2 2 2 2 2 2 2\n",
            " 2 2 2 2 2 2 2 2 2 2 2 2 2 2 2 2 2 2 2 2 2 2 2 2 2 2 2 2 2 2 2 2 2 2 2 2 2\n",
            " 2 2]\n",
            "['sepal length (cm)', 'sepal width (cm)', 'petal length (cm)', 'petal width (cm)']\n"
          ],
          "name": "stdout"
        }
      ]
    },
    {
      "cell_type": "code",
      "metadata": {
        "id": "ivohOvJ2GpXG",
        "outputId": "55636484-80e2-41eb-94e9-5c8fb85171a1",
        "colab": {
          "base_uri": "https://localhost:8080/",
          "height": 102
        }
      },
      "source": [
        "datosEntrenamiento, datosPrueba,respuestasEntrenamiento,respuestaPrueba=train_test_split(iris['data'],iris['target'])\n",
        "print(datosEntrenamiento.shape)\n",
        "#print (datosEntrenamiento)\n",
        "print(respuestasEntrenamiento)"
      ],
      "execution_count": 24,
      "outputs": [
        {
          "output_type": "stream",
          "text": [
            "(112, 4)\n",
            "[2 1 0 0 0 2 1 0 1 1 1 0 1 0 2 2 2 0 0 0 1 2 2 1 1 0 2 1 1 0 0 2 1 0 0 0 1\n",
            " 0 2 2 2 1 1 0 1 1 1 2 0 0 0 1 1 1 0 1 2 2 2 0 0 1 0 2 2 2 1 2 0 2 2 2 2 0\n",
            " 2 1 2 1 1 1 2 0 1 2 2 1 0 0 2 2 1 2 2 0 2 0 2 1 0 0 1 0 1 1 2 2 0 2 1 1 0\n",
            " 0]\n"
          ],
          "name": "stdout"
        }
      ]
    },
    {
      "cell_type": "code",
      "metadata": {
        "id": "vCM_gPHbGsGi",
        "outputId": "01b1d3e1-565a-497e-a798-35fef924a8a2",
        "colab": {
          "base_uri": "https://localhost:8080/",
          "height": 85
        }
      },
      "source": [
        "from sklearn.neighbors import KNeighborsClassifier\n",
        "lista_clasificadores = []\n",
        "scores_clasificadores = []\n",
        "lista_clasificadores.append(KNeighborsClassifier(n_neighbors=3))\n",
        "lista_clasificadores.append(KNeighborsClassifier(n_neighbors=10))\n",
        "lista_clasificadores.append(KNeighborsClassifier(n_neighbors=40))\n",
        "for elemento in lista_clasificadores:\n",
        "  elemento.fit(datosEntrenamiento,respuestasEntrenamiento)\n",
        "  scores_clasificadores.append(elemento.score(datosPrueba,respuestaPrueba)*100)\n",
        "  print(elemento.score(datosPrueba,respuestaPrueba)*100)\n",
        "print(scores_clasificadores)\n"
      ],
      "execution_count": 25,
      "outputs": [
        {
          "output_type": "stream",
          "text": [
            "92.10526315789474\n",
            "97.36842105263158\n",
            "94.73684210526315\n",
            "[92.10526315789474, 97.36842105263158, 94.73684210526315]\n"
          ],
          "name": "stdout"
        }
      ]
    },
    {
      "cell_type": "code",
      "metadata": {
        "id": "XS5hHCoeGts-",
        "outputId": "e233af1c-6a12-484c-8315-406a25397c6e",
        "colab": {
          "base_uri": "https://localhost:8080/",
          "height": 312
        }
      },
      "source": [
        "import matplotlib.pyplot as plt\n",
        "vecinos_reales = [\"vecino 3\",\"vecino 10\",\"vecino 40\"]\n",
        "plt.bar(vecinos_reales,scores_clasificadores)\n",
        "plt.ylabel(\"Porcentaje\")\n",
        "plt.xlabel(\"Vecinos\")\n",
        "plt.title(\"Comparacion clasificadores\")\n",
        "plt.show()\n",
        "plt.savefig(\"GraficoVecinos.png\")"
      ],
      "execution_count": 26,
      "outputs": [
        {
          "output_type": "display_data",
          "data": {
            "image/png": "[encoded data removed]",
            "text/plain": [
              "<Figure size 432x288 with 1 Axes>"
            ]
          },
          "metadata": {
            "tags": [],
            "needs_background": "light"
          }
        },
        {
          "output_type": "display_data",
          "data": {
            "text/plain": [
              "<Figure size 432x288 with 0 Axes>"
            ]
          },
          "metadata": {
            "tags": []
          }
        }
      ]
    },
    {
      "cell_type": "code",
      "metadata": {
        "id": "3lXnsL7oQ9p6"
      },
      "source": [
        "from sklearn.datasets import load_iris \n",
        "from sklearn.model_selection import train_test_split \n",
        "from sklearn.tree import  DecisionTreeClassifier \n",
        "\n",
        "iris = load_iris()\n",
        "\n",
        "datosEntrenamiento, datosPrueba,respuestasEntrenamiento,respuestasPrueba=train_test_split(iris['data'],iris['target'])"
      ],
      "execution_count": 29,
      "outputs": []
    },
    {
      "cell_type": "code",
      "metadata": {
        "id": "7lQMOh5JQ-Ps",
        "outputId": "0bb7b8e8-bbf2-41d6-c9e6-97010258f51c",
        "colab": {
          "base_uri": "https://localhost:8080/",
          "height": 34
        }
      },
      "source": [
        "arbol3 = DecisionTreeClassifier(max_depth=3)\n",
        "arbol3.fit(datosEntrenamiento,respuestasEntrenamiento)\n",
        "scoreTree3 = arbol3.score(datosPrueba, respuestasPrueba)*100\n",
        "print(scoreTree3)"
      ],
      "execution_count": 41,
      "outputs": [
        {
          "output_type": "stream",
          "text": [
            "28.947368421052634\n"
          ],
          "name": "stdout"
        }
      ]
    },
    {
      "cell_type": "code",
      "metadata": {
        "id": "1lajKoEERATF",
        "outputId": "2a45dc46-ccaf-4a34-bbb2-b933680c217f",
        "colab": {
          "base_uri": "https://localhost:8080/",
          "height": 34
        }
      },
      "source": [
        "arbol10 = DecisionTreeClassifier(max_depth=10)\n",
        "arbol10.fit(datosEntrenamiento,respuestasEntrenamiento)\n",
        "scoreTree5 = arbol10.score(datosPrueba, respuestasPrueba)*100\n",
        "print(scoreTree5)"
      ],
      "execution_count": 39,
      "outputs": [
        {
          "output_type": "stream",
          "text": [
            "28.947368421052634\n"
          ],
          "name": "stdout"
        }
      ]
    },
    {
      "cell_type": "code",
      "metadata": {
        "id": "40Yg9_FNRCZz",
        "outputId": "f82deaf0-b6b7-48aa-e335-006765ca3915",
        "colab": {
          "base_uri": "https://localhost:8080/",
          "height": 34
        }
      },
      "source": [
        "arbol40 = DecisionTreeClassifier(max_depth=40)\n",
        "arbol40.fit(datosEntrenamiento,respuestasEntrenamiento)\n",
        "scoreTree40 = arbol40.score(datosPrueba, respuestasPrueba)*100\n",
        "print(scoreTree12)"
      ],
      "execution_count": 40,
      "outputs": [
        {
          "output_type": "stream",
          "text": [
            "92.10526315789474\n"
          ],
          "name": "stdout"
        }
      ]
    },
    {
      "cell_type": "code",
      "metadata": {
        "id": "vtUKLoAXRE39",
        "outputId": "8d77b98d-7b10-45c2-b020-a48b0165e292",
        "colab": {
          "base_uri": "https://localhost:8080/",
          "height": 312
        }
      },
      "source": [
        "score_clasificadores_arbol=[]\n",
        "\n",
        "score_clasificadores_arbol.append(arbol3.score(datosPrueba, respuestasPrueba)*100)\n",
        "score_clasificadores_arbol.append(arbol10.score(datosPrueba, respuestasPrueba)*100)\n",
        "score_clasificadores_arbol.append(arbol40.score(datosPrueba, respuestasPrueba)*100)\n",
        "\n",
        "print(\"el puntaje maximo fue\", max(score_clasificadores_arbol))\n",
        "\n",
        "import matplotlib.pyplot as plt\n",
        "profundidad = [\"3\",\"10\",\"40\"]\n",
        "plt.bar(profundidad,score_clasificadores_arbol)\n",
        "plt.ylabel(\"Porcentaje de acierto\")\n",
        "plt.xlabel(\"Profundidad\")\n",
        "plt.title(\"COMPARACIÓN CLASIFICADORES ARBOL DE DECISIONES\")\n",
        "plt.show()"
      ],
      "execution_count": 45,
      "outputs": [
        {
          "output_type": "stream",
          "text": [
            "el puntaje maximo fue 28.947368421052634\n"
          ],
          "name": "stdout"
        },
        {
          "output_type": "display_data",
          "data": {
            "image/png": "[encoded data removed]",
            "text/plain": [
              "<Figure size 432x288 with 1 Axes>"
            ]
          },
          "metadata": {
            "tags": [],
            "needs_background": "light"
          }
        }
      ]
    },
    {
      "cell_type": "code",
      "metadata": {
        "id": "-XzLmUEdRHmk",
        "outputId": "0f8d352a-663b-437e-84d1-4f50a99f060a",
        "colab": {
          "base_uri": "https://localhost:8080/",
          "height": 34
        }
      },
      "source": [
        "import sklearn\n",
        "from sklearn.datasets import load_iris\n",
        "from sklearn.model_selection import train_test_split\n",
        "iris=load_iris()\n",
        "\n",
        "#KNN\n",
        "datosEntrenamiento, datosPrueba,respuestasEntrenamiento,respuestaPrueba=train_test_split(iris['data'],iris['target'])\n",
        "\n",
        "from sklearn.neighbors import KNeighborsClassifier\n",
        "knn3=KNeighborsClassifier(n_neighbors=3)\n",
        "knn3.fit(datosEntrenamiento,respuestasEntrenamiento)\n",
        "\n",
        "print(knn3.score(datosPrueba,respuestaPrueba)*100)\n"
      ],
      "execution_count": 33,
      "outputs": [
        {
          "output_type": "stream",
          "text": [
            "97.36842105263158\n"
          ],
          "name": "stdout"
        }
      ]
    },
    {
      "cell_type": "code",
      "metadata": {
        "id": "OXY3SWjLRJyn",
        "outputId": "f54bbd7c-7ae2-4e8f-98b1-721e156a13a3",
        "colab": {
          "base_uri": "https://localhost:8080/",
          "height": 34
        }
      },
      "source": [
        "#ARBOL DE DECISIONES\n",
        "from sklearn.tree import  DecisionTreeClassifier \n",
        "\n",
        "arbol3 = DecisionTreeClassifier(max_depth=10)\n",
        "arbol3.fit(datosEntrenamiento,respuestasEntrenamiento)\n",
        "scoreTree5 = arbol3.score(datosPrueba, respuestasPrueba)*100\n",
        "print(scoreTree5)"
      ],
      "execution_count": 44,
      "outputs": [
        {
          "output_type": "stream",
          "text": [
            "28.947368421052634\n"
          ],
          "name": "stdout"
        }
      ]
    },
    {
      "cell_type": "code",
      "metadata": {
        "id": "-lwSzLAJRLxS",
        "outputId": "9d603daa-0c13-4e29-f2d8-b25ffd9de98b",
        "colab": {
          "base_uri": "https://localhost:8080/",
          "height": 88
        }
      },
      "source": [
        "#RED NEURONAL\n",
        "from sklearn.neural_network import  MLPClassifier\n",
        "\n",
        "redNeuronal = MLPClassifier(max_iter=60, hidden_layer_sizes=[66,66])\n",
        "redNeuronal.fit(datosEntrenamiento,respuestasEntrenamiento)\n",
        "score = redNeuronal.score(datosPrueba,respuestaPrueba)*100\n",
        "print (score)"
      ],
      "execution_count": 35,
      "outputs": [
        {
          "output_type": "stream",
          "text": [
            "100.0\n"
          ],
          "name": "stdout"
        },
        {
          "output_type": "stream",
          "text": [
            "/usr/local/lib/python3.6/dist-packages/sklearn/neural_network/_multilayer_perceptron.py:571: ConvergenceWarning: Stochastic Optimizer: Maximum iterations (60) reached and the optimization hasn't converged yet.\n",
            "  % self.max_iter, ConvergenceWarning)\n"
          ],
          "name": "stderr"
        }
      ]
    },
    {
      "cell_type": "code",
      "metadata": {
        "id": "TUqG-Sa3RNvw",
        "outputId": "9cf618f9-da5d-40f0-9a7b-abf32ae80294",
        "colab": {
          "base_uri": "https://localhost:8080/",
          "height": 312
        }
      },
      "source": [
        "score_clasificadores_total=[]\n",
        "score_clasificadores_total.append(knn3.score(datosPrueba,respuestaPrueba)*100)\n",
        "score_clasificadores_total.append(arbol5.score(datosPrueba, respuestasPrueba)*100)\n",
        "score_clasificadores_total.append(redNeuronal.score(datosPrueba,respuestaPrueba)*100)\n",
        "\n",
        "print(\"el puntaje maximo fue\", max(score_clasificadores_total))\n",
        "\n",
        "import matplotlib.pyplot as plt\n",
        "clasificador = [\"KNN 3\",\"ARBOL DECISIONES 5\",\"RED NEURONAL 60\"]\n",
        "plt.bar(clasificador,score_clasificadores_total)\n",
        "plt.ylabel(\"Porcentaje de acierto\")\n",
        "plt.xlabel(\"clasificador\")\n",
        "plt.title(\"COMPARACIÓN CLASIFICADORES \")\n",
        "plt.show()"
      ],
      "execution_count": 46,
      "outputs": [
        {
          "output_type": "stream",
          "text": [
            "el puntaje maximo fue 100.0\n"
          ],
          "name": "stdout"
        },
        {
          "output_type": "display_data",
          "data": {
            "image/png": "[encoded data removed]",
            "text/plain": [
              "<Figure size 432x288 with 1 Axes>"
            ]
          },
          "metadata": {
            "tags": [],
            "needs_background": "light"
          }
        }
      ]
    }
  ]
}