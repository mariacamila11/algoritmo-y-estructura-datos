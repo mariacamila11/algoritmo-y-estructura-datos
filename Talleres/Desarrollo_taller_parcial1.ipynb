{
  "nbformat": 4,
  "nbformat_minor": 0,
  "metadata": {
    "colab": {
      "name": "Desarrollo-taller-parcial1.ipynb",
      "provenance": [],
      "collapsed_sections": []
    },
    "kernelspec": {
      "name": "python3",
      "display_name": "Python 3"
    }
  },
  "cells": [
    {
      "cell_type": "code",
      "metadata": {
        "id": "ZoOWH-oxM3G6",
        "colab_type": "code",
        "colab": {
          "base_uri": "https://localhost:8080/",
          "height": 34
        },
        "outputId": "1c023c4f-64fa-45f4-cf58-c30ea13291ee"
      },
      "source": [
        "import requests \n",
        "url = 'https://listado.mercadolibre.com.co/resaltadores-pastel#D[A:resaltadores%20pastel]'\n",
        "response = requests.get (url)\n",
        "print (response)"
      ],
      "execution_count": 4,
      "outputs": [
        {
          "output_type": "stream",
          "text": [
            "<Response [200]>\n"
          ],
          "name": "stdout"
        }
      ]
    },
    {
      "cell_type": "code",
      "metadata": {
        "id": "YFs2dskwa4cG",
        "colab_type": "code",
        "colab": {
          "base_uri": "https://localhost:8080/",
          "height": 105
        },
        "outputId": "1d585ec3-074a-4f5a-e180-c5076639943c"
      },
      "source": [
        "import bs4\n",
        "parseo = bs4.BeautifulSoup (response.text, 'html.parser')\n",
        "getDataSelect = lambda clase : parseo.select(clase)\n",
        "dataTitle = parseo.select ('.ui-search-item__title')\n",
        "dataPrice = getDataSelect('.price-tag-fraction')\n",
        "print (dataTitle)\n",
        "print (dataPrice)\n",
        "nombreResaltadores2 = []\n",
        "nombreResaltadores = []\n",
        "funcionExtraerTexto = lambda elemento : elemento.text\n",
        "funcionListaDatos = lambda funcion, data :  list (map (funcion,data))\n",
        "nombreResaltadores = funcionListaDatos(funcionExtraerTexto, dataTitle)\n",
        "for elemento in dataTitle :\n",
        "  nombreResaltadores2.append (elemento.text)\n",
        "\n",
        "print (nombreResaltadores)\n",
        "listaPrecios = funcionListaDatos(funcionExtraerTexto, dataPrice)\n",
        "print (listaPrecios)\n"
      ],
      "execution_count": 5,
      "outputs": [
        {
          "output_type": "stream",
          "text": [
            "[<h2 class=\"ui-search-item__title\">Resaltadores Pelikan Colores Pastel X 10 Unidades</h2>, <h2 class=\"ui-search-item__title\">Resaltadores Pastel Pétalos Pelikan Textmarker X 10 Uds</h2>, <h2 class=\"ui-search-item__title\">Resaltador Boss Original Pastel X6 Stabilo</h2>, <h2 class=\"ui-search-item__title\">Resaltador Boss Original Colores Surtidos X 10 Uds  Stabilo</h2>, <h2 class=\"ui-search-item__title\"> Tombow , Rotuladores Doble Pincel 10 Unidades Color Pastel</h2>, <h2 class=\"ui-search-item__title\">Resaltador Estuche Pastel X 6 Unidades Offi-esco</h2>, <h2 class=\"ui-search-item__title\">Resaltador Pastel Swing Cool Original X6 Uds Stabilo</h2>, <h2 class=\"ui-search-item__title\">Marcador Artline Decorite Pincel Colores Básicos Y Pasteles</h2>, <h2 class=\"ui-search-item__title\">Resaltadores Pelikan Pastel X 10 Unidades</h2>, <h2 class=\"ui-search-item__title\">Resaltadores Pelikan Textmarker Pastel Pétalos  X 10 Uds</h2>, <h2 class=\"ui-search-item__title\">Resaltadores Pelikan Color Pastel X 10 Unidades</h2>, <h2 class=\"ui-search-item__title\">Marcador Artline Decorite Pincel Colores Básicos Y Pasteles</h2>, <h2 class=\"ui-search-item__title\">Resaltadores Pastel De Colores Pague 5 Lleve 6 Pelikan</h2>, <h2 class=\"ui-search-item__title\">Plumón Pelikan Colorella Star Jumbo Pastel X 8</h2>, <h2 class=\"ui-search-item__title\">Resaltadores Pastel Pelikan X 10 Uds Entrega Gratis Bta/soac</h2>, <h2 class=\"ui-search-item__title\">Resaltador Pelikan Flash Pastel Surtido X 10 Und</h2>, <h2 class=\"ui-search-item__title\">Resaltador Pastel Petalos Pelikan Caja X 10 Und</h2>, <h2 class=\"ui-search-item__title\">Resaltadores Pastel Vintage Staedtler ,estuche X10</h2>, <h2 class=\"ui-search-item__title\">Resaltadores Pastel X 6 Unidades - Offi Esco</h2>, <h2 class=\"ui-search-item__title\">Resaltadores Pastel Staedtler Textsurfer Classic, Estuche X6</h2>, <h2 class=\"ui-search-item__title\">Resaltador Textmarker Flash Pastel Pétalos Pelikan X 10 Pz.</h2>, <h2 class=\"ui-search-item__title\">Resaltador Textmarker Flash Pastel Pétalos Pelikan X 6 Pz.</h2>, <h2 class=\"ui-search-item__title\">Resaltador Colores Pastel Kores X 6 High Liner Plus Pastel</h2>, <h2 class=\"ui-search-item__title\">Resaltador Staedtler Pastel X10 Triplus® Textsurfer® 362 C</h2>, <h2 class=\"ui-search-item__title\">Resaltador Pelikan Pastel Colores Paga 5 Lleva 6</h2>, <h2 class=\"ui-search-item__title\">Resaltador Pastel Pétalos Pelikan X 10 Uds</h2>, <h2 class=\"ui-search-item__title\">Set Resaltador Mini Edding 7 X 5 Uds</h2>, <h2 class=\"ui-search-item__title\">Resaltadores  Stabilo  Swing Cool Wallet Pastel X6</h2>, <h2 class=\"ui-search-item__title\">362 Csb10 Resaltadores Pastel Staedtler Triplus Textsurfer</h2>, <h2 class=\"ui-search-item__title\">Resaltador Mini Personaje Pastel Variado X 6 Unidades</h2>, <h2 class=\"ui-search-item__title\">Marcador Pelikan Pastel Jumbo X 8 Uds</h2>, <h2 class=\"ui-search-item__title\">Resaltadores Pastel Stabilo Boss Original X 6 Unidades</h2>, <h2 class=\"ui-search-item__title\">Resaltadores Pastel Kores X6 </h2>, <h2 class=\"ui-search-item__title\">Estuche Plumon Colorella Jumbo Pastel X8 Piezas </h2>, <h2 class=\"ui-search-item__title\">Marcador Pelikan Pastel X 8 Unidades Original</h2>, <h2 class=\"ui-search-item__title\">Kit Marc Gráficos Doricolor Y Resaltador Pastel X 10 </h2>, <h2 class=\"ui-search-item__title\">Set De Marcadores Sharpie Colores Pastel X8</h2>, <h2 class=\"ui-search-item__title\">Textmarker Flash Pastel Pétalos Pelikan X 10 Unidades</h2>, <h2 class=\"ui-search-item__title\">Micropunta Y Punta Pincel 2 En 1 Blister X 3 Unidades Pastel</h2>, <h2 class=\"ui-search-item__title\">Resaltador Textmarker Flash Pastel X 4 Und Pelikan</h2>, <h2 class=\"ui-search-item__title\">Resaltadores Kores Colores Pastel X 6 Unidades</h2>, <h2 class=\"ui-search-item__title\">Resaltadores Pastel Pétalos Pelikan Textmarker X 10 Und</h2>, <h2 class=\"ui-search-item__title\">Resaltadores Pelikan Colores Pastel X 6 Unidades</h2>, <h2 class=\"ui-search-item__title\">Marcador Multipen Delgado X 6 Pastel Artline</h2>, <h2 class=\"ui-search-item__title\">Resaltadores Mini De Colores Pastel Keepermate X 6 Unidades</h2>, <h2 class=\"ui-search-item__title\">Estuche De Tizas Colores Pastel X 12 Unidades Tiziano </h2>, <h2 class=\"ui-search-item__title\">Resaltador Kores Pastel Delgado X6</h2>, <h2 class=\"ui-search-item__title\">Bolígrafo Resaltador Hao Yue X10 Lapicero Color Pastel Fluor</h2>, <h2 class=\"ui-search-item__title\">Marcador Touch Twin Brush Pastel Colors X 12 Unidades</h2>, <h2 class=\"ui-search-item__title\">Set Resaltadores Kawaii Mini X 6 Colores Pastel Tf-103</h2>, <h2 class=\"ui-search-item__title\">Marcador De Vinilo Tonos Pastel Punta 6mm</h2>, <h2 class=\"ui-search-item__title\">Marcador Pelikan Pastel X 5 Unidades Original</h2>]\n",
            "[<span class=\"price-tag-fraction\">17.500</span>, <span class=\"price-tag-fraction\">1.458</span>, <span class=\"price-tag-fraction\">16.900</span>, <span class=\"price-tag-fraction\">1.408</span>, <span class=\"price-tag-fraction\">41.600</span>, <span class=\"price-tag-fraction\">23.400</span>, <span class=\"price-tag-fraction\">1.950</span>, <span class=\"price-tag-fraction\">60.700</span>, <span class=\"price-tag-fraction\">34.100</span>, <span class=\"price-tag-fraction\">2.842</span>, <span class=\"price-tag-fraction\">135.000</span>, <span class=\"price-tag-fraction\">3.750</span>, <span class=\"price-tag-fraction\">6.400</span>, <span class=\"price-tag-fraction\">533</span>, <span class=\"price-tag-fraction\">44.700</span>, <span class=\"price-tag-fraction\">25.100</span>, <span class=\"price-tag-fraction\">2.092</span>, <span class=\"price-tag-fraction\">5.250</span>, <span class=\"price-tag-fraction\">437</span>, <span class=\"price-tag-fraction\">14.990</span>, <span class=\"price-tag-fraction\">1.249</span>, <span class=\"price-tag-fraction\">17.900</span>, <span class=\"price-tag-fraction\">497</span>, <span class=\"price-tag-fraction\">16.800</span>, <span class=\"price-tag-fraction\">466</span>, <span class=\"price-tag-fraction\">5.250</span>, <span class=\"price-tag-fraction\">437</span>, <span class=\"price-tag-fraction\">23.900</span>, <span class=\"price-tag-fraction\">14.200</span>, <span class=\"price-tag-fraction\">394</span>, <span class=\"price-tag-fraction\">16.900</span>, <span class=\"price-tag-fraction\">1.408</span>, <span class=\"price-tag-fraction\">20.000</span>, <span class=\"price-tag-fraction\">1.667</span>, <span class=\"price-tag-fraction\">17.400</span>, <span class=\"price-tag-fraction\">483</span>, <span class=\"price-tag-fraction\">18.990</span>, <span class=\"price-tag-fraction\">527</span>, <span class=\"price-tag-fraction\">45.600</span>, <span class=\"price-tag-fraction\">1.267</span>, <span class=\"price-tag-fraction\">5.800</span>, <span class=\"price-tag-fraction\">161</span>, <span class=\"price-tag-fraction\">25.300</span>, <span class=\"price-tag-fraction\">702</span>, <span class=\"price-tag-fraction\">17.500</span>, <span class=\"price-tag-fraction\">486</span>, <span class=\"price-tag-fraction\">13.900</span>, <span class=\"price-tag-fraction\">386</span>, <span class=\"price-tag-fraction\">23.700</span>, <span class=\"price-tag-fraction\">14.800</span>, <span class=\"price-tag-fraction\">411</span>, <span class=\"price-tag-fraction\">49.900</span>, <span class=\"price-tag-fraction\">1.386</span>, <span class=\"price-tag-fraction\">12.990</span>, <span class=\"price-tag-fraction\">1.082</span>, <span class=\"price-tag-fraction\">19.900</span>, <span class=\"price-tag-fraction\">1.658</span>, <span class=\"price-tag-fraction\">13.900</span>, <span class=\"price-tag-fraction\">386</span>, <span class=\"price-tag-fraction\">41.900</span>, <span class=\"price-tag-fraction\">1.164</span>, <span class=\"price-tag-fraction\">48.600</span>, <span class=\"price-tag-fraction\">1.350</span>, <span class=\"price-tag-fraction\">12.100</span>, <span class=\"price-tag-fraction\">10.500</span>, <span class=\"price-tag-fraction\">291</span>, <span class=\"price-tag-fraction\">19.400</span>, <span class=\"price-tag-fraction\">16.900</span>, <span class=\"price-tag-fraction\">1.408</span>, <span class=\"price-tag-fraction\">22.000</span>, <span class=\"price-tag-fraction\">611</span>, <span class=\"price-tag-fraction\">13.900</span>, <span class=\"price-tag-fraction\">386</span>, <span class=\"price-tag-fraction\">16.900</span>, <span class=\"price-tag-fraction\">1.408</span>, <span class=\"price-tag-fraction\">14.990</span>, <span class=\"price-tag-fraction\">416</span>, <span class=\"price-tag-fraction\">30.000</span>, <span class=\"price-tag-fraction\">833</span>, <span class=\"price-tag-fraction\">25.100</span>, <span class=\"price-tag-fraction\">697</span>, <span class=\"price-tag-fraction\">16.990</span>, <span class=\"price-tag-fraction\">471</span>, <span class=\"price-tag-fraction\">8.400</span>, <span class=\"price-tag-fraction\">233</span>, <span class=\"price-tag-fraction\">18.000</span>, <span class=\"price-tag-fraction\">11.300</span>, <span class=\"price-tag-fraction\">313</span>, <span class=\"price-tag-fraction\">9.800</span>, <span class=\"price-tag-fraction\">816</span>, <span class=\"price-tag-fraction\">17.900</span>, <span class=\"price-tag-fraction\">497</span>, <span class=\"price-tag-fraction\">12.600</span>, <span class=\"price-tag-fraction\">350</span>, <span class=\"price-tag-fraction\">25.500</span>, <span class=\"price-tag-fraction\">708</span>, <span class=\"price-tag-fraction\">10.800</span>, <span class=\"price-tag-fraction\">900</span>, <span class=\"price-tag-fraction\">21.600</span>, <span class=\"price-tag-fraction\">600</span>, <span class=\"price-tag-fraction\">10.000</span>, <span class=\"price-tag-fraction\">277</span>, <span class=\"price-tag-fraction\">8.152</span>, <span class=\"price-tag-fraction\">226</span>, <span class=\"price-tag-fraction\">209.900</span>, <span class=\"price-tag-fraction\">5.831</span>, <span class=\"price-tag-fraction\">5.950</span>, <span class=\"price-tag-fraction\">165</span>, <span class=\"price-tag-fraction\">35.000</span>, <span class=\"price-tag-fraction\">972</span>, <span class=\"price-tag-fraction\">8.990</span>, <span class=\"price-tag-fraction\">749</span>]\n",
            "['Resaltadores Pelikan Colores Pastel X 10 Unidades', 'Resaltadores Pastel Pétalos Pelikan Textmarker X 10 Uds', 'Resaltador Boss Original Pastel X6 Stabilo', 'Resaltador Boss Original Colores Surtidos X 10 Uds  Stabilo', ' Tombow , Rotuladores Doble Pincel 10 Unidades Color Pastel', 'Resaltador Estuche Pastel X 6 Unidades Offi-esco', 'Resaltador Pastel Swing Cool Original X6 Uds Stabilo', 'Marcador Artline Decorite Pincel Colores Básicos Y Pasteles', 'Resaltadores Pelikan Pastel X 10 Unidades', 'Resaltadores Pelikan Textmarker Pastel Pétalos  X 10 Uds', 'Resaltadores Pelikan Color Pastel X 10 Unidades', 'Marcador Artline Decorite Pincel Colores Básicos Y Pasteles', 'Resaltadores Pastel De Colores Pague 5 Lleve 6 Pelikan', 'Plumón Pelikan Colorella Star Jumbo Pastel X 8', 'Resaltadores Pastel Pelikan X 10 Uds Entrega Gratis Bta/soac', 'Resaltador Pelikan Flash Pastel Surtido X 10 Und', 'Resaltador Pastel Petalos Pelikan Caja X 10 Und', 'Resaltadores Pastel Vintage Staedtler ,estuche X10', 'Resaltadores Pastel X 6 Unidades - Offi Esco', 'Resaltadores Pastel Staedtler Textsurfer Classic, Estuche X6', 'Resaltador Textmarker Flash Pastel Pétalos Pelikan X 10 Pz.', 'Resaltador Textmarker Flash Pastel Pétalos Pelikan X 6 Pz.', 'Resaltador Colores Pastel Kores X 6 High Liner Plus Pastel', 'Resaltador Staedtler Pastel X10 Triplus® Textsurfer® 362 C', 'Resaltador Pelikan Pastel Colores Paga 5 Lleva 6', 'Resaltador Pastel Pétalos Pelikan X 10 Uds', 'Set Resaltador Mini Edding 7 X 5 Uds', 'Resaltadores  Stabilo  Swing Cool Wallet Pastel X6', '362 Csb10 Resaltadores Pastel Staedtler Triplus Textsurfer', 'Resaltador Mini Personaje Pastel Variado X 6 Unidades', 'Marcador Pelikan Pastel Jumbo X 8 Uds', 'Resaltadores Pastel Stabilo Boss Original X 6 Unidades', 'Resaltadores Pastel Kores X6 ', 'Estuche Plumon Colorella Jumbo Pastel X8 Piezas ', 'Marcador Pelikan Pastel X 8 Unidades Original', 'Kit Marc Gráficos Doricolor Y Resaltador Pastel X 10 ', 'Set De Marcadores Sharpie Colores Pastel X8', 'Textmarker Flash Pastel Pétalos Pelikan X 10 Unidades', 'Micropunta Y Punta Pincel 2 En 1 Blister X 3 Unidades Pastel', 'Resaltador Textmarker Flash Pastel X 4 Und Pelikan', 'Resaltadores Kores Colores Pastel X 6 Unidades', 'Resaltadores Pastel Pétalos Pelikan Textmarker X 10 Und', 'Resaltadores Pelikan Colores Pastel X 6 Unidades', 'Marcador Multipen Delgado X 6 Pastel Artline', 'Resaltadores Mini De Colores Pastel Keepermate X 6 Unidades', 'Estuche De Tizas Colores Pastel X 12 Unidades Tiziano ', 'Resaltador Kores Pastel Delgado X6', 'Bolígrafo Resaltador Hao Yue X10 Lapicero Color Pastel Fluor', 'Marcador Touch Twin Brush Pastel Colors X 12 Unidades', 'Set Resaltadores Kawaii Mini X 6 Colores Pastel Tf-103', 'Marcador De Vinilo Tonos Pastel Punta 6mm', 'Marcador Pelikan Pastel X 5 Unidades Original']\n",
            "['17.500', '1.458', '16.900', '1.408', '41.600', '23.400', '1.950', '60.700', '34.100', '2.842', '135.000', '3.750', '6.400', '533', '44.700', '25.100', '2.092', '5.250', '437', '14.990', '1.249', '17.900', '497', '16.800', '466', '5.250', '437', '23.900', '14.200', '394', '16.900', '1.408', '20.000', '1.667', '17.400', '483', '18.990', '527', '45.600', '1.267', '5.800', '161', '25.300', '702', '17.500', '486', '13.900', '386', '23.700', '14.800', '411', '49.900', '1.386', '12.990', '1.082', '19.900', '1.658', '13.900', '386', '41.900', '1.164', '48.600', '1.350', '12.100', '10.500', '291', '19.400', '16.900', '1.408', '22.000', '611', '13.900', '386', '16.900', '1.408', '14.990', '416', '30.000', '833', '25.100', '697', '16.990', '471', '8.400', '233', '18.000', '11.300', '313', '9.800', '816', '17.900', '497', '12.600', '350', '25.500', '708', '10.800', '900', '21.600', '600', '10.000', '277', '8.152', '226', '209.900', '5.831', '5.950', '165', '35.000', '972', '8.990', '749']\n"
          ],
          "name": "stdout"
        }
      ]
    },
    {
      "cell_type": "code",
      "metadata": {
        "id": "hKRcMlsocN-Y",
        "colab_type": "code",
        "colab": {
          "base_uri": "https://localhost:8080/",
          "height": 34
        },
        "outputId": "94138431-fcd8-456c-e3d2-22626b1ec184"
      },
      "source": [
        "import pandas as pd\n",
        "dictResaltadores = {}\n",
        "dictResaltadores ['Titulos'] = nombreResaltadores2[:52]\n",
        "print (len (nombreResaltadores), len (listaPrecios))\n",
        "dictResaltadores ['Precios'] = listaPrecios[:52]\n",
        "ResaltadoresDataFrame = pd.DataFrame(dictResaltadores)\n",
        "ResaltadoresDataFrame.to_csv('Resaltadores.csv', index=False)"
      ],
      "execution_count": 18,
      "outputs": [
        {
          "output_type": "stream",
          "text": [
            "52 112\n"
          ],
          "name": "stdout"
        }
      ]
    },
    {
      "cell_type": "code",
      "metadata": {
        "id": "-bo4xGm-eQz_",
        "colab_type": "code",
        "colab": {
          "base_uri": "https://localhost:8080/",
          "height": 71
        },
        "outputId": "a9c71c1e-05f9-4fa1-b799-c3afab2cef11"
      },
      "source": [
        "funcionAgregarResaltador = lambda elemento : 'Resaltador : ' + elemento\n",
        "titulosResaltadores = list (map(funcionAgregarResaltador,nombreResaltadores))\n",
        "print (titulosResaltadores)\n",
        "titulosResaltadores2 = funcionListaDatos (funcionAgregarResaltador, nombreResaltadores)\n",
        "print (titulosResaltadores2)\n",
        "dictResaltadores = {}\n",
        "dictResaltadores['Titulos'] = titulosResaltadores2[:20]\n",
        "dictResaltadores ['Precios'] = listaPrecios[:20]\n",
        "ResaltadoresDF = pd.DataFrame(dictResaltadores)\n",
        "ResaltadoresDF.to_csv('ResaltadoresMod.csv', index= False) "
      ],
      "execution_count": 19,
      "outputs": [
        {
          "output_type": "stream",
          "text": [
            "['Resaltador : Resaltadores Pelikan Colores Pastel X 10 Unidades', 'Resaltador : Resaltadores Pastel Pétalos Pelikan Textmarker X 10 Uds', 'Resaltador : Resaltador Boss Original Pastel X6 Stabilo', 'Resaltador : Resaltador Boss Original Colores Surtidos X 10 Uds  Stabilo', 'Resaltador :  Tombow , Rotuladores Doble Pincel 10 Unidades Color Pastel', 'Resaltador : Resaltador Estuche Pastel X 6 Unidades Offi-esco', 'Resaltador : Resaltador Pastel Swing Cool Original X6 Uds Stabilo', 'Resaltador : Marcador Artline Decorite Pincel Colores Básicos Y Pasteles', 'Resaltador : Resaltadores Pelikan Pastel X 10 Unidades', 'Resaltador : Resaltadores Pelikan Textmarker Pastel Pétalos  X 10 Uds', 'Resaltador : Resaltadores Pelikan Color Pastel X 10 Unidades', 'Resaltador : Marcador Artline Decorite Pincel Colores Básicos Y Pasteles', 'Resaltador : Resaltadores Pastel De Colores Pague 5 Lleve 6 Pelikan', 'Resaltador : Plumón Pelikan Colorella Star Jumbo Pastel X 8', 'Resaltador : Resaltadores Pastel Pelikan X 10 Uds Entrega Gratis Bta/soac', 'Resaltador : Resaltador Pelikan Flash Pastel Surtido X 10 Und', 'Resaltador : Resaltador Pastel Petalos Pelikan Caja X 10 Und', 'Resaltador : Resaltadores Pastel Vintage Staedtler ,estuche X10', 'Resaltador : Resaltadores Pastel X 6 Unidades - Offi Esco', 'Resaltador : Resaltadores Pastel Staedtler Textsurfer Classic, Estuche X6', 'Resaltador : Resaltador Textmarker Flash Pastel Pétalos Pelikan X 10 Pz.', 'Resaltador : Resaltador Textmarker Flash Pastel Pétalos Pelikan X 6 Pz.', 'Resaltador : Resaltador Colores Pastel Kores X 6 High Liner Plus Pastel', 'Resaltador : Resaltador Staedtler Pastel X10 Triplus® Textsurfer® 362 C', 'Resaltador : Resaltador Pelikan Pastel Colores Paga 5 Lleva 6', 'Resaltador : Resaltador Pastel Pétalos Pelikan X 10 Uds', 'Resaltador : Set Resaltador Mini Edding 7 X 5 Uds', 'Resaltador : Resaltadores  Stabilo  Swing Cool Wallet Pastel X6', 'Resaltador : 362 Csb10 Resaltadores Pastel Staedtler Triplus Textsurfer', 'Resaltador : Resaltador Mini Personaje Pastel Variado X 6 Unidades', 'Resaltador : Marcador Pelikan Pastel Jumbo X 8 Uds', 'Resaltador : Resaltadores Pastel Stabilo Boss Original X 6 Unidades', 'Resaltador : Resaltadores Pastel Kores X6 ', 'Resaltador : Estuche Plumon Colorella Jumbo Pastel X8 Piezas ', 'Resaltador : Marcador Pelikan Pastel X 8 Unidades Original', 'Resaltador : Kit Marc Gráficos Doricolor Y Resaltador Pastel X 10 ', 'Resaltador : Set De Marcadores Sharpie Colores Pastel X8', 'Resaltador : Textmarker Flash Pastel Pétalos Pelikan X 10 Unidades', 'Resaltador : Micropunta Y Punta Pincel 2 En 1 Blister X 3 Unidades Pastel', 'Resaltador : Resaltador Textmarker Flash Pastel X 4 Und Pelikan', 'Resaltador : Resaltadores Kores Colores Pastel X 6 Unidades', 'Resaltador : Resaltadores Pastel Pétalos Pelikan Textmarker X 10 Und', 'Resaltador : Resaltadores Pelikan Colores Pastel X 6 Unidades', 'Resaltador : Marcador Multipen Delgado X 6 Pastel Artline', 'Resaltador : Resaltadores Mini De Colores Pastel Keepermate X 6 Unidades', 'Resaltador : Estuche De Tizas Colores Pastel X 12 Unidades Tiziano ', 'Resaltador : Resaltador Kores Pastel Delgado X6', 'Resaltador : Bolígrafo Resaltador Hao Yue X10 Lapicero Color Pastel Fluor', 'Resaltador : Marcador Touch Twin Brush Pastel Colors X 12 Unidades', 'Resaltador : Set Resaltadores Kawaii Mini X 6 Colores Pastel Tf-103', 'Resaltador : Marcador De Vinilo Tonos Pastel Punta 6mm', 'Resaltador : Marcador Pelikan Pastel X 5 Unidades Original']\n",
            "['Resaltador : Resaltadores Pelikan Colores Pastel X 10 Unidades', 'Resaltador : Resaltadores Pastel Pétalos Pelikan Textmarker X 10 Uds', 'Resaltador : Resaltador Boss Original Pastel X6 Stabilo', 'Resaltador : Resaltador Boss Original Colores Surtidos X 10 Uds  Stabilo', 'Resaltador :  Tombow , Rotuladores Doble Pincel 10 Unidades Color Pastel', 'Resaltador : Resaltador Estuche Pastel X 6 Unidades Offi-esco', 'Resaltador : Resaltador Pastel Swing Cool Original X6 Uds Stabilo', 'Resaltador : Marcador Artline Decorite Pincel Colores Básicos Y Pasteles', 'Resaltador : Resaltadores Pelikan Pastel X 10 Unidades', 'Resaltador : Resaltadores Pelikan Textmarker Pastel Pétalos  X 10 Uds', 'Resaltador : Resaltadores Pelikan Color Pastel X 10 Unidades', 'Resaltador : Marcador Artline Decorite Pincel Colores Básicos Y Pasteles', 'Resaltador : Resaltadores Pastel De Colores Pague 5 Lleve 6 Pelikan', 'Resaltador : Plumón Pelikan Colorella Star Jumbo Pastel X 8', 'Resaltador : Resaltadores Pastel Pelikan X 10 Uds Entrega Gratis Bta/soac', 'Resaltador : Resaltador Pelikan Flash Pastel Surtido X 10 Und', 'Resaltador : Resaltador Pastel Petalos Pelikan Caja X 10 Und', 'Resaltador : Resaltadores Pastel Vintage Staedtler ,estuche X10', 'Resaltador : Resaltadores Pastel X 6 Unidades - Offi Esco', 'Resaltador : Resaltadores Pastel Staedtler Textsurfer Classic, Estuche X6', 'Resaltador : Resaltador Textmarker Flash Pastel Pétalos Pelikan X 10 Pz.', 'Resaltador : Resaltador Textmarker Flash Pastel Pétalos Pelikan X 6 Pz.', 'Resaltador : Resaltador Colores Pastel Kores X 6 High Liner Plus Pastel', 'Resaltador : Resaltador Staedtler Pastel X10 Triplus® Textsurfer® 362 C', 'Resaltador : Resaltador Pelikan Pastel Colores Paga 5 Lleva 6', 'Resaltador : Resaltador Pastel Pétalos Pelikan X 10 Uds', 'Resaltador : Set Resaltador Mini Edding 7 X 5 Uds', 'Resaltador : Resaltadores  Stabilo  Swing Cool Wallet Pastel X6', 'Resaltador : 362 Csb10 Resaltadores Pastel Staedtler Triplus Textsurfer', 'Resaltador : Resaltador Mini Personaje Pastel Variado X 6 Unidades', 'Resaltador : Marcador Pelikan Pastel Jumbo X 8 Uds', 'Resaltador : Resaltadores Pastel Stabilo Boss Original X 6 Unidades', 'Resaltador : Resaltadores Pastel Kores X6 ', 'Resaltador : Estuche Plumon Colorella Jumbo Pastel X8 Piezas ', 'Resaltador : Marcador Pelikan Pastel X 8 Unidades Original', 'Resaltador : Kit Marc Gráficos Doricolor Y Resaltador Pastel X 10 ', 'Resaltador : Set De Marcadores Sharpie Colores Pastel X8', 'Resaltador : Textmarker Flash Pastel Pétalos Pelikan X 10 Unidades', 'Resaltador : Micropunta Y Punta Pincel 2 En 1 Blister X 3 Unidades Pastel', 'Resaltador : Resaltador Textmarker Flash Pastel X 4 Und Pelikan', 'Resaltador : Resaltadores Kores Colores Pastel X 6 Unidades', 'Resaltador : Resaltadores Pastel Pétalos Pelikan Textmarker X 10 Und', 'Resaltador : Resaltadores Pelikan Colores Pastel X 6 Unidades', 'Resaltador : Marcador Multipen Delgado X 6 Pastel Artline', 'Resaltador : Resaltadores Mini De Colores Pastel Keepermate X 6 Unidades', 'Resaltador : Estuche De Tizas Colores Pastel X 12 Unidades Tiziano ', 'Resaltador : Resaltador Kores Pastel Delgado X6', 'Resaltador : Bolígrafo Resaltador Hao Yue X10 Lapicero Color Pastel Fluor', 'Resaltador : Marcador Touch Twin Brush Pastel Colors X 12 Unidades', 'Resaltador : Set Resaltadores Kawaii Mini X 6 Colores Pastel Tf-103', 'Resaltador : Marcador De Vinilo Tonos Pastel Punta 6mm', 'Resaltador : Marcador Pelikan Pastel X 5 Unidades Original']\n"
          ],
          "name": "stdout"
        }
      ]
    },
    {
      "cell_type": "code",
      "metadata": {
        "id": "O7NXNqvGDMX9",
        "colab_type": "code",
        "colab": {
          "base_uri": "https://localhost:8080/",
          "height": 71
        },
        "outputId": "bd6b5add-7387-4206-c895-f63de2de83c2"
      },
      "source": [
        "from functools import reduce\n",
        "lista= titulosResaltadores\n",
        "largo=lambda elemento: len(elemento)\n",
        "listalargos=list(map(largo,lista))\n",
        "print(listalargos)\n",
        "sumador=lambda elemento=0,acumulador=0:acumulador+elemento\n",
        "promedio= reduce(sumador,listalargos)/len(titulosResaltadores)\n",
        "print(promedio)"
      ],
      "execution_count": 9,
      "outputs": [
        {
          "output_type": "stream",
          "text": [
            "[62, 68, 55, 72, 72, 61, 65, 72, 54, 69, 60, 72, 67, 59, 73, 61, 60, 63, 57, 73, 72, 71, 71, 71, 61, 55, 49, 63, 71, 66, 50, 67, 42, 61, 58, 66, 56, 66, 73, 63, 59, 68, 61, 57, 72, 67, 47, 73, 66, 67, 54, 58]\n",
            "63.38461538461539\n"
          ],
          "name": "stdout"
        }
      ]
    },
    {
      "cell_type": "code",
      "metadata": {
        "id": "JqzLYfRGe8vJ",
        "colab_type": "code",
        "colab": {
          "base_uri": "https://localhost:8080/",
          "height": 71
        },
        "outputId": "681fe842-4096-4de8-8e0a-e787860cc79f"
      },
      "source": [
        "Pelikan = lambda elemento : 'Pelikan' in elemento \n",
        "Boss = lambda elemento : 'Boss' in elemento\n",
        "\n",
        "listaPelikan = list (filter(Pelikan, titulosResaltadores))\n",
        "listaBoss = list (filter(Boss, titulosResaltadores))\n",
        "print (listaPelikan)\n",
        "print (listaBoss)\n",
        "\n",
        "\n",
        "PelikanSerie = pd.Series(listaPelikan)\n",
        "PelikanSerie.to_csv('Resaltadores Pelikan.csv',  index_label='Pelikan')\n",
        "BossSerie = pd.Series(listaBoss)\n",
        "BossSerie.to_csv('Resaltadores Boss.csv',  index_label='Boss')"
      ],
      "execution_count": 10,
      "outputs": [
        {
          "output_type": "stream",
          "text": [
            "['Resaltador : Resaltadores Pelikan Colores Pastel X 10 Unidades', 'Resaltador : Resaltadores Pastel Pétalos Pelikan Textmarker X 10 Uds', 'Resaltador : Resaltadores Pelikan Pastel X 10 Unidades', 'Resaltador : Resaltadores Pelikan Textmarker Pastel Pétalos  X 10 Uds', 'Resaltador : Resaltadores Pelikan Color Pastel X 10 Unidades', 'Resaltador : Resaltadores Pastel De Colores Pague 5 Lleve 6 Pelikan', 'Resaltador : Plumón Pelikan Colorella Star Jumbo Pastel X 8', 'Resaltador : Resaltadores Pastel Pelikan X 10 Uds Entrega Gratis Bta/soac', 'Resaltador : Resaltador Pelikan Flash Pastel Surtido X 10 Und', 'Resaltador : Resaltador Pastel Petalos Pelikan Caja X 10 Und', 'Resaltador : Resaltador Textmarker Flash Pastel Pétalos Pelikan X 10 Pz.', 'Resaltador : Resaltador Textmarker Flash Pastel Pétalos Pelikan X 6 Pz.', 'Resaltador : Resaltador Pelikan Pastel Colores Paga 5 Lleva 6', 'Resaltador : Resaltador Pastel Pétalos Pelikan X 10 Uds', 'Resaltador : Marcador Pelikan Pastel Jumbo X 8 Uds', 'Resaltador : Marcador Pelikan Pastel X 8 Unidades Original', 'Resaltador : Textmarker Flash Pastel Pétalos Pelikan X 10 Unidades', 'Resaltador : Resaltador Textmarker Flash Pastel X 4 Und Pelikan', 'Resaltador : Resaltadores Pastel Pétalos Pelikan Textmarker X 10 Und', 'Resaltador : Resaltadores Pelikan Colores Pastel X 6 Unidades', 'Resaltador : Marcador Pelikan Pastel X 5 Unidades Original']\n",
            "['Resaltador : Resaltador Boss Original Pastel X6 Stabilo', 'Resaltador : Resaltador Boss Original Colores Surtidos X 10 Uds  Stabilo', 'Resaltador : Resaltadores Pastel Stabilo Boss Original X 6 Unidades']\n"
          ],
          "name": "stdout"
        }
      ]
    },
    {
      "cell_type": "code",
      "metadata": {
        "id": "LyQTjZZkGFct",
        "colab_type": "code",
        "colab": {
          "base_uri": "https://localhost:8080/",
          "height": 669
        },
        "outputId": "7b822b43-faa5-49f2-8e8b-e818010e8731"
      },
      "source": [
        "ResaltadoresDF"
      ],
      "execution_count": 20,
      "outputs": [
        {
          "output_type": "execute_result",
          "data": {
            "text/html": [
              "<div>\n",
              "<style scoped>\n",
              "    .dataframe tbody tr th:only-of-type {\n",
              "        vertical-align: middle;\n",
              "    }\n",
              "\n",
              "    .dataframe tbody tr th {\n",
              "        vertical-align: top;\n",
              "    }\n",
              "\n",
              "    .dataframe thead th {\n",
              "        text-align: right;\n",
              "    }\n",
              "</style>\n",
              "<table border=\"1\" class=\"dataframe\">\n",
              "  <thead>\n",
              "    <tr style=\"text-align: right;\">\n",
              "      <th></th>\n",
              "      <th>Titulos</th>\n",
              "      <th>Precios</th>\n",
              "    </tr>\n",
              "  </thead>\n",
              "  <tbody>\n",
              "    <tr>\n",
              "      <th>0</th>\n",
              "      <td>Resaltador : Resaltadores Pelikan Colores Past...</td>\n",
              "      <td>17.500</td>\n",
              "    </tr>\n",
              "    <tr>\n",
              "      <th>1</th>\n",
              "      <td>Resaltador : Resaltadores Pastel Pétalos Pelik...</td>\n",
              "      <td>1.458</td>\n",
              "    </tr>\n",
              "    <tr>\n",
              "      <th>2</th>\n",
              "      <td>Resaltador : Resaltador Boss Original Pastel X...</td>\n",
              "      <td>16.900</td>\n",
              "    </tr>\n",
              "    <tr>\n",
              "      <th>3</th>\n",
              "      <td>Resaltador : Resaltador Boss Original Colores ...</td>\n",
              "      <td>1.408</td>\n",
              "    </tr>\n",
              "    <tr>\n",
              "      <th>4</th>\n",
              "      <td>Resaltador :  Tombow , Rotuladores Doble Pince...</td>\n",
              "      <td>41.600</td>\n",
              "    </tr>\n",
              "    <tr>\n",
              "      <th>5</th>\n",
              "      <td>Resaltador : Resaltador Estuche Pastel X 6 Uni...</td>\n",
              "      <td>23.400</td>\n",
              "    </tr>\n",
              "    <tr>\n",
              "      <th>6</th>\n",
              "      <td>Resaltador : Resaltador Pastel Swing Cool Orig...</td>\n",
              "      <td>1.950</td>\n",
              "    </tr>\n",
              "    <tr>\n",
              "      <th>7</th>\n",
              "      <td>Resaltador : Marcador Artline Decorite Pincel ...</td>\n",
              "      <td>60.700</td>\n",
              "    </tr>\n",
              "    <tr>\n",
              "      <th>8</th>\n",
              "      <td>Resaltador : Resaltadores Pelikan Pastel X 10 ...</td>\n",
              "      <td>34.100</td>\n",
              "    </tr>\n",
              "    <tr>\n",
              "      <th>9</th>\n",
              "      <td>Resaltador : Resaltadores Pelikan Textmarker P...</td>\n",
              "      <td>2.842</td>\n",
              "    </tr>\n",
              "    <tr>\n",
              "      <th>10</th>\n",
              "      <td>Resaltador : Resaltadores Pelikan Color Pastel...</td>\n",
              "      <td>135.000</td>\n",
              "    </tr>\n",
              "    <tr>\n",
              "      <th>11</th>\n",
              "      <td>Resaltador : Marcador Artline Decorite Pincel ...</td>\n",
              "      <td>3.750</td>\n",
              "    </tr>\n",
              "    <tr>\n",
              "      <th>12</th>\n",
              "      <td>Resaltador : Resaltadores Pastel De Colores Pa...</td>\n",
              "      <td>6.400</td>\n",
              "    </tr>\n",
              "    <tr>\n",
              "      <th>13</th>\n",
              "      <td>Resaltador : Plumón Pelikan Colorella Star Jum...</td>\n",
              "      <td>533</td>\n",
              "    </tr>\n",
              "    <tr>\n",
              "      <th>14</th>\n",
              "      <td>Resaltador : Resaltadores Pastel Pelikan X 10 ...</td>\n",
              "      <td>44.700</td>\n",
              "    </tr>\n",
              "    <tr>\n",
              "      <th>15</th>\n",
              "      <td>Resaltador : Resaltador Pelikan Flash Pastel S...</td>\n",
              "      <td>25.100</td>\n",
              "    </tr>\n",
              "    <tr>\n",
              "      <th>16</th>\n",
              "      <td>Resaltador : Resaltador Pastel Petalos Pelikan...</td>\n",
              "      <td>2.092</td>\n",
              "    </tr>\n",
              "    <tr>\n",
              "      <th>17</th>\n",
              "      <td>Resaltador : Resaltadores Pastel Vintage Staed...</td>\n",
              "      <td>5.250</td>\n",
              "    </tr>\n",
              "    <tr>\n",
              "      <th>18</th>\n",
              "      <td>Resaltador : Resaltadores Pastel X 6 Unidades ...</td>\n",
              "      <td>437</td>\n",
              "    </tr>\n",
              "    <tr>\n",
              "      <th>19</th>\n",
              "      <td>Resaltador : Resaltadores Pastel Staedtler Tex...</td>\n",
              "      <td>14.990</td>\n",
              "    </tr>\n",
              "  </tbody>\n",
              "</table>\n",
              "</div>"
            ],
            "text/plain": [
              "                                              Titulos  Precios\n",
              "0   Resaltador : Resaltadores Pelikan Colores Past...   17.500\n",
              "1   Resaltador : Resaltadores Pastel Pétalos Pelik...    1.458\n",
              "2   Resaltador : Resaltador Boss Original Pastel X...   16.900\n",
              "3   Resaltador : Resaltador Boss Original Colores ...    1.408\n",
              "4   Resaltador :  Tombow , Rotuladores Doble Pince...   41.600\n",
              "5   Resaltador : Resaltador Estuche Pastel X 6 Uni...   23.400\n",
              "6   Resaltador : Resaltador Pastel Swing Cool Orig...    1.950\n",
              "7   Resaltador : Marcador Artline Decorite Pincel ...   60.700\n",
              "8   Resaltador : Resaltadores Pelikan Pastel X 10 ...   34.100\n",
              "9   Resaltador : Resaltadores Pelikan Textmarker P...    2.842\n",
              "10  Resaltador : Resaltadores Pelikan Color Pastel...  135.000\n",
              "11  Resaltador : Marcador Artline Decorite Pincel ...    3.750\n",
              "12  Resaltador : Resaltadores Pastel De Colores Pa...    6.400\n",
              "13  Resaltador : Plumón Pelikan Colorella Star Jum...      533\n",
              "14  Resaltador : Resaltadores Pastel Pelikan X 10 ...   44.700\n",
              "15  Resaltador : Resaltador Pelikan Flash Pastel S...   25.100\n",
              "16  Resaltador : Resaltador Pastel Petalos Pelikan...    2.092\n",
              "17  Resaltador : Resaltadores Pastel Vintage Staed...    5.250\n",
              "18  Resaltador : Resaltadores Pastel X 6 Unidades ...      437\n",
              "19  Resaltador : Resaltadores Pastel Staedtler Tex...   14.990"
            ]
          },
          "metadata": {
            "tags": []
          },
          "execution_count": 20
        }
      ]
    }
  ]
}