{
  "nbformat": 4,
  "nbformat_minor": 0,
  "metadata": {
    "colab": {
      "name": "Untitled0.ipynb",
      "provenance": []
    },
    "kernelspec": {
      "name": "python3",
      "display_name": "Python 3"
    }
  },
  "cells": [
    {
      "cell_type": "code",
      "metadata": {
        "id": "-QrbcvUcvAme",
        "colab_type": "code",
        "colab": {
          "base_uri": "https://localhost:8080/",
          "height": 204
        },
        "outputId": "6f626f72-523e-4447-db95-cf17d9e03557"
      },
      "source": [
        "import pandas as pd \n",
        "lista_mercado =pd.Series({'Arroz':4200,\n",
        "                  'Carne':4800,\n",
        "                  'Pan':5400,\n",
        "                  'Cereal':2200,\n",
        "                  'Gomitas':2300,\n",
        "                  'Queso':3000,\n",
        "                  'Jamon':2500,\n",
        "                  'Avena': 3100,\n",
        "                  'Bananos':2000,\n",
        "                  'Papas': 2600})\n",
        "print(lista_mercado)"
      ],
      "execution_count": 6,
      "outputs": [
        {
          "output_type": "stream",
          "text": [
            "Arroz      4200\n",
            "Carne      4800\n",
            "Pan        5400\n",
            "Cereal     2200\n",
            "Gomitas    2300\n",
            "Queso      3000\n",
            "Jamon      2500\n",
            "Avena      3100\n",
            "Bananos    2000\n",
            "Papas      2600\n",
            "dtype: int64\n"
          ],
          "name": "stdout"
        }
      ]
    },
    {
      "cell_type": "code",
      "metadata": {
        "id": "5kyDXBLnwgf1",
        "colab_type": "code",
        "colab": {
          "base_uri": "https://localhost:8080/",
          "height": 204
        },
        "outputId": "7f436ab4-af7f-4cea-ecdb-7600a091b1c9"
      },
      "source": [
        "import pandas as pd \n",
        "business_results_frame= pd.DataFrame({'Enero':[2000,1000,1200,2000,3000],\n",
        "                  'Febrero':[2300,1200,1300,4500,4000],\n",
        "                  'Marzo':[2400,1600,1400,3200,3000],\n",
        "                  'Abril':[1000,600,600,800,700]},index=['Arroz','carne','Pan','cereal','gomitas'])\n",
        "business_results_frame"
      ],
      "execution_count": 10,
      "outputs": [
        {
          "output_type": "execute_result",
          "data": {
            "text/html": [
              "<div>\n",
              "<style scoped>\n",
              "    .dataframe tbody tr th:only-of-type {\n",
              "        vertical-align: middle;\n",
              "    }\n",
              "\n",
              "    .dataframe tbody tr th {\n",
              "        vertical-align: top;\n",
              "    }\n",
              "\n",
              "    .dataframe thead th {\n",
              "        text-align: right;\n",
              "    }\n",
              "</style>\n",
              "<table border=\"1\" class=\"dataframe\">\n",
              "  <thead>\n",
              "    <tr style=\"text-align: right;\">\n",
              "      <th></th>\n",
              "      <th>Enero</th>\n",
              "      <th>Febrero</th>\n",
              "      <th>Marzo</th>\n",
              "      <th>Abril</th>\n",
              "    </tr>\n",
              "  </thead>\n",
              "  <tbody>\n",
              "    <tr>\n",
              "      <th>Arroz</th>\n",
              "      <td>2000</td>\n",
              "      <td>2300</td>\n",
              "      <td>2400</td>\n",
              "      <td>1000</td>\n",
              "    </tr>\n",
              "    <tr>\n",
              "      <th>carne</th>\n",
              "      <td>1000</td>\n",
              "      <td>1200</td>\n",
              "      <td>1600</td>\n",
              "      <td>600</td>\n",
              "    </tr>\n",
              "    <tr>\n",
              "      <th>Pan</th>\n",
              "      <td>1200</td>\n",
              "      <td>1300</td>\n",
              "      <td>1400</td>\n",
              "      <td>600</td>\n",
              "    </tr>\n",
              "    <tr>\n",
              "      <th>cereal</th>\n",
              "      <td>2000</td>\n",
              "      <td>4500</td>\n",
              "      <td>3200</td>\n",
              "      <td>800</td>\n",
              "    </tr>\n",
              "    <tr>\n",
              "      <th>gomitas</th>\n",
              "      <td>3000</td>\n",
              "      <td>4000</td>\n",
              "      <td>3000</td>\n",
              "      <td>700</td>\n",
              "    </tr>\n",
              "  </tbody>\n",
              "</table>\n",
              "</div>"
            ],
            "text/plain": [
              "         Enero  Febrero  Marzo  Abril\n",
              "Arroz     2000     2300   2400   1000\n",
              "carne     1000     1200   1600    600\n",
              "Pan       1200     1300   1400    600\n",
              "cereal    2000     4500   3200    800\n",
              "gomitas   3000     4000   3000    700"
            ]
          },
          "metadata": {
            "tags": []
          },
          "execution_count": 10
        }
      ]
    },
    {
      "cell_type": "code",
      "metadata": {
        "id": "wpdSiY76znGh",
        "colab_type": "code",
        "colab": {
          "base_uri": "https://localhost:8080/",
          "height": 204
        },
        "outputId": "f7622366-d8c3-4f11-af9d-fc0753cf933d"
      },
      "source": [
        "import pandas as pd \n",
        "business_results_frame= pd.DataFrame({'Enero':[2000,1000,1200,2000,3000],\n",
        "                  'Marzo':[2400,1600,1400,3200,3000],\n",
        "                   },index=['Arroz','carne','Pan','cereal','gomitas'])\n",
        "business_results_frame"
      ],
      "execution_count": 11,
      "outputs": [
        {
          "output_type": "execute_result",
          "data": {
            "text/html": [
              "<div>\n",
              "<style scoped>\n",
              "    .dataframe tbody tr th:only-of-type {\n",
              "        vertical-align: middle;\n",
              "    }\n",
              "\n",
              "    .dataframe tbody tr th {\n",
              "        vertical-align: top;\n",
              "    }\n",
              "\n",
              "    .dataframe thead th {\n",
              "        text-align: right;\n",
              "    }\n",
              "</style>\n",
              "<table border=\"1\" class=\"dataframe\">\n",
              "  <thead>\n",
              "    <tr style=\"text-align: right;\">\n",
              "      <th></th>\n",
              "      <th>Enero</th>\n",
              "      <th>Marzo</th>\n",
              "    </tr>\n",
              "  </thead>\n",
              "  <tbody>\n",
              "    <tr>\n",
              "      <th>Arroz</th>\n",
              "      <td>2000</td>\n",
              "      <td>2400</td>\n",
              "    </tr>\n",
              "    <tr>\n",
              "      <th>carne</th>\n",
              "      <td>1000</td>\n",
              "      <td>1600</td>\n",
              "    </tr>\n",
              "    <tr>\n",
              "      <th>Pan</th>\n",
              "      <td>1200</td>\n",
              "      <td>1400</td>\n",
              "    </tr>\n",
              "    <tr>\n",
              "      <th>cereal</th>\n",
              "      <td>2000</td>\n",
              "      <td>3200</td>\n",
              "    </tr>\n",
              "    <tr>\n",
              "      <th>gomitas</th>\n",
              "      <td>3000</td>\n",
              "      <td>3000</td>\n",
              "    </tr>\n",
              "  </tbody>\n",
              "</table>\n",
              "</div>"
            ],
            "text/plain": [
              "         Enero  Marzo\n",
              "Arroz     2000   2400\n",
              "carne     1000   1600\n",
              "Pan       1200   1400\n",
              "cereal    2000   3200\n",
              "gomitas   3000   3000"
            ]
          },
          "metadata": {
            "tags": []
          },
          "execution_count": 11
        }
      ]
    },
    {
      "cell_type": "code",
      "metadata": {
        "id": "2OnSm0ZU0RkG",
        "colab_type": "code",
        "colab": {
          "base_uri": "https://localhost:8080/",
          "height": 204
        },
        "outputId": "2bcd990a-e966-41ab-e750-1e90cc667692"
      },
      "source": [
        "import pandas as pd \n",
        "business_results_frame= pd.DataFrame({'Abril':[1000,600,600,800,700]},index=['Arroz','carne','Pan','cereal','gomitas'])\n",
        "business_results_frame"
      ],
      "execution_count": 12,
      "outputs": [
        {
          "output_type": "execute_result",
          "data": {
            "text/html": [
              "<div>\n",
              "<style scoped>\n",
              "    .dataframe tbody tr th:only-of-type {\n",
              "        vertical-align: middle;\n",
              "    }\n",
              "\n",
              "    .dataframe tbody tr th {\n",
              "        vertical-align: top;\n",
              "    }\n",
              "\n",
              "    .dataframe thead th {\n",
              "        text-align: right;\n",
              "    }\n",
              "</style>\n",
              "<table border=\"1\" class=\"dataframe\">\n",
              "  <thead>\n",
              "    <tr style=\"text-align: right;\">\n",
              "      <th></th>\n",
              "      <th>Abril</th>\n",
              "    </tr>\n",
              "  </thead>\n",
              "  <tbody>\n",
              "    <tr>\n",
              "      <th>Arroz</th>\n",
              "      <td>1000</td>\n",
              "    </tr>\n",
              "    <tr>\n",
              "      <th>carne</th>\n",
              "      <td>600</td>\n",
              "    </tr>\n",
              "    <tr>\n",
              "      <th>Pan</th>\n",
              "      <td>600</td>\n",
              "    </tr>\n",
              "    <tr>\n",
              "      <th>cereal</th>\n",
              "      <td>800</td>\n",
              "    </tr>\n",
              "    <tr>\n",
              "      <th>gomitas</th>\n",
              "      <td>700</td>\n",
              "    </tr>\n",
              "  </tbody>\n",
              "</table>\n",
              "</div>"
            ],
            "text/plain": [
              "         Abril\n",
              "Arroz     1000\n",
              "carne      600\n",
              "Pan        600\n",
              "cereal     800\n",
              "gomitas    700"
            ]
          },
          "metadata": {
            "tags": []
          },
          "execution_count": 12
        }
      ]
    }
  ]
}