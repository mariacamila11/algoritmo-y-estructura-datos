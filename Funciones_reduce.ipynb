{
  "nbformat": 4,
  "nbformat_minor": 0,
  "metadata": {
    "colab": {
      "name": "Funciones reduce.ipynb",
      "provenance": []
    },
    "kernelspec": {
      "name": "python3",
      "display_name": "Python 3"
    }
  },
  "cells": [
    {
      "cell_type": "markdown",
      "metadata": {
        "id": "aJsDyp4jL4FE",
        "colab_type": "text"
      },
      "source": [
        "# Funciones Reduce\n",
        "Desarrolle una función reduce que:\n",
        "\n",
        "•\tObtenga la resta de todos los elementos de una lista "
      ]
    },
    {
      "cell_type": "code",
      "metadata": {
        "id": "0ItHsSwUL8HI",
        "colab_type": "code",
        "colab": {
          "base_uri": "https://localhost:8080/",
          "height": 34
        },
        "outputId": "9154d2b2-9640-472b-81e3-2c23219cca69"
      },
      "source": [
        "from functools import reduce\n",
        "lista = [12,14,7,21,49,23,45,46,574,32,54]\n",
        "restador = lambda acumulado = 0, elemento = 0: acumulado - elemento\n",
        "restados = reduce (restador, lista)\n",
        "print (restados)\n"
      ],
      "execution_count": null,
      "outputs": [
        {
          "output_type": "stream",
          "text": [
            "-853\n"
          ],
          "name": "stdout"
        }
      ]
    },
    {
      "cell_type": "markdown",
      "metadata": {
        "id": "OZQpCGNeL8d3",
        "colab_type": "text"
      },
      "source": [
        "\n",
        "•\tDada una lista de palabras devolver una frase \n",
        "\n"
      ]
    },
    {
      "cell_type": "code",
      "metadata": {
        "id": "Oe6uX81bMrPn",
        "colab_type": "code",
        "colab": {
          "base_uri": "https://localhost:8080/",
          "height": 34
        },
        "outputId": "dfcd38ce-6861-4308-a481-416f69ef9f2e"
      },
      "source": [
        "from functools import reduce\n",
        "palabras = ['Hola', 'como', 'estan','?', 'Espero', 'que ', 'esten', 'aprendiendo','muuchoo!!']\n",
        "union = lambda acumulado = '', valor = '' : acumulado + ' ' + valor\n",
        "frase = reduce(union, palabras)\n",
        "print (frase)"
      ],
      "execution_count": null,
      "outputs": [
        {
          "output_type": "stream",
          "text": [
            "Hola como estan ? Espero que  esten aprendiendo muuchoo!!\n"
          ],
          "name": "stdout"
        }
      ]
    },
    {
      "cell_type": "markdown",
      "metadata": {
        "id": "gOvtu_LHMrkv",
        "colab_type": "text"
      },
      "source": [
        "•\tDada una lista de números enteros entregue la sumatoria de todos elementos tras haber sido divididos por dos \n"
      ]
    },
    {
      "cell_type": "code",
      "metadata": {
        "id": "oPSGeKBuNPgW",
        "colab_type": "code",
        "colab": {
          "base_uri": "https://localhost:8080/",
          "height": 34
        },
        "outputId": "ad04652e-d35d-406a-f8d0-2a12544fd909"
      },
      "source": [
        "from functools import reduce\n",
        "lista = [12,14,7,21,49,23,45,46,574,32,54]\n",
        "sumador = lambda acumulado = 0, elemento = 0: acumulado + (elemento/2)\n",
        "sumados = reduce (sumador, lista)\n",
        "print (sumados)"
      ],
      "execution_count": null,
      "outputs": [
        {
          "output_type": "stream",
          "text": [
            "444.5\n"
          ],
          "name": "stdout"
        }
      ]
    },
    {
      "cell_type": "markdown",
      "metadata": {
        "id": "hSj3JrdGNP4v",
        "colab_type": "text"
      },
      "source": [
        "•\tDevuelva el promedio de una lista de números\n"
      ]
    },
    {
      "cell_type": "code",
      "metadata": {
        "id": "4Tg0eqcgNQ0-",
        "colab_type": "code",
        "colab": {
          "base_uri": "https://localhost:8080/",
          "height": 34
        },
        "outputId": "215792db-dad3-4498-8993-725b088f17ea"
      },
      "source": [
        "from functools import reduce\n",
        "lista = [12,14,7,21,49,23,45,46,574,32,54]\n",
        "sumador = lambda acumulado = 0, elemento = 0: acumulado + elemento\n",
        "promedio = reduce (sumador, lista)/len (lista)\n",
        "print (promedio)"
      ],
      "execution_count": null,
      "outputs": [
        {
          "output_type": "stream",
          "text": [
            "79.72727272727273\n"
          ],
          "name": "stdout"
        }
      ]
    },
    {
      "cell_type": "markdown",
      "metadata": {
        "id": "je0uUfakNRKJ",
        "colab_type": "text"
      },
      "source": [
        "•\tQue multiplique todos los elementos de la lista entre si"
      ]
    },
    {
      "cell_type": "code",
      "metadata": {
        "id": "2zNiBAxUOKIf",
        "colab_type": "code",
        "colab": {
          "base_uri": "https://localhost:8080/",
          "height": 34
        },
        "outputId": "19eb5045-587b-4ddc-bbf8-100c4a06ed3f"
      },
      "source": [
        "from functools import reduce\n",
        "lista = [12,14,7,21,49,23,45,46,574,32,54]\n",
        "multiplicador = lambda acumulado = 0, elemento = 1: acumulado * elemento\n",
        "multiplicado = reduce (multiplicador, lista)/len (lista)\n",
        "print (multiplicado)"
      ],
      "execution_count": null,
      "outputs": [
        {
          "output_type": "stream",
          "text": [
            "5194979323445062.0\n"
          ],
          "name": "stdout"
        }
      ]
    },
    {
      "cell_type": "code",
      "metadata": {
        "id": "BLQxGYqAXWY0",
        "colab_type": "code",
        "colab": {}
      },
      "source": [
        ""
      ],
      "execution_count": null,
      "outputs": []
    }
  ]
}