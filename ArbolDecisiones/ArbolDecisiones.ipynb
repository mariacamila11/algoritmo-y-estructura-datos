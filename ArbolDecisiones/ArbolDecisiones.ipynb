{
  "nbformat": 4,
  "nbformat_minor": 0,
  "metadata": {
    "colab": {
      "name": "ArbolDecisiones.ipynb",
      "provenance": []
    },
    "kernelspec": {
      "name": "python3",
      "display_name": "Python 3"
    }
  },
  "cells": [
    {
      "cell_type": "code",
      "metadata": {
        "id": "PY2fx2XBN4n_",
        "outputId": "f8e72fa6-12ca-468d-c6bd-2f25897e20da",
        "colab": {
          "base_uri": "https://localhost:8080/",
          "height": 34
        }
      },
      "source": [
        "from sklearn.datasets import load_iris #set datos \n",
        "from sklearn.model_selection import train_test_split #para dividir datos\n",
        "from sklearn.tree import  DecisionTreeClassifier #clasificador\n",
        "#Cargar datos\n",
        "iris = load_iris()\n",
        "#Dividir aleatoriamente los datos\n",
        "resultado= train_test_split(iris['data'], iris['target'])\n",
        "datosEntrenamiento = resultado[0]\n",
        "datosPrueba = resultado[1]\n",
        "respuestasEntrenamiento =resultado[2]\n",
        "respuestasPrueba = resultado[3]\n",
        "#Crear el algoritmo de aprendizaje\n",
        "arbol = DecisionTreeClassifier(max_depth=5)\n",
        "#Entrenarlo\n",
        "arbol.fit(datosEntrenamiento,respuestasEntrenamiento)\n",
        "#Probando\n",
        "scoreTree = arbol.score(datosPrueba, respuestasPrueba)*100\n",
        "#Mostrar resultado\n",
        "print (f'El resultado de clasificar con arbol de deciones es {scoreTree} % ')\n",
        "\n",
        "\n",
        "\n"
      ],
      "execution_count": null,
      "outputs": [
        {
          "output_type": "stream",
          "text": [
            "El resultado de clasificar con arbol de deciones es 97.36842105263158 % \n"
          ],
          "name": "stdout"
        }
      ]
    }
  ]
}