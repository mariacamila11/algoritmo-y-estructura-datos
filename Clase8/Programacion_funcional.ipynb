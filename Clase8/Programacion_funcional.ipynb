{
  "nbformat": 4,
  "nbformat_minor": 0,
  "metadata": {
    "colab": {
      "name": "Untitled",
      "provenance": []
    },
    "kernelspec": {
      "name": "python3",
      "display_name": "Python 3"
    }
  },
  "cells": [
    {
      "cell_type": "markdown",
      "metadata": {
        "id": "OjyEv7UYTESe",
        "colab_type": "text"
      },
      "source": [
        "# **Programación Funcional**\n",
        "En programación funcional un programa es un conjunto de funciones matemáticas que convierten unas entradas en unas salidas, sin ningún estado interno y ningún efecto lateral.\n",
        "\n",
        "Como dijo C.A.R. Hoare:\n",
        "\n",
        "“Hay dos formas de diseñar software: una forma es hacerlo tan simple que obviamente no haya deficiencias, y la otra es hacerlo tan complicado que no haya deficiencias obvias. El primer método es mucho más difícil”."
      ]
    },
    {
      "cell_type": "markdown",
      "metadata": {
        "id": "1SNHY-qBU7Br",
        "colab_type": "text"
      },
      "source": [
        "#Funciones Lambda\n",
        "Una función lambda es una que no posee un nombre (por eso suelen llamarla funciones anónimas). En Python la estructura de una función lambda es la siguiente.\n",
        "\n",
        "\n",
        "```\n",
        "lambda argumentos : acciones de la función \n",
        "```\n",
        "\n",
        "\n"
      ]
    },
    {
      "cell_type": "markdown",
      "metadata": {
        "id": "WOjAyMpOWJM8",
        "colab_type": "text"
      },
      "source": [
        ""
      ]
    },
    {
      "cell_type": "code",
      "metadata": {
        "id": "dfnFdXr2U6Z1",
        "colab_type": "code",
        "colab": {
          "base_uri": "https://localhost:8080/",
          "height": 50
        },
        "outputId": "89830f26-bfdb-4c7b-a02d-d3046dfccd79"
      },
      "source": [
        "#Caso donde no tenemos entradas\n",
        "line  = lambda: print ('#'*60)\n",
        "line()\n",
        "#vs \n",
        "def line_design():\n",
        "  print ('#'*60)\n",
        "line_design()"
      ],
      "execution_count": null,
      "outputs": [
        {
          "output_type": "stream",
          "text": [
            "############################################################\n",
            "############################################################\n"
          ],
          "name": "stdout"
        }
      ]
    },
    {
      "cell_type": "code",
      "metadata": {
        "id": "dsT5n2x7WO5C",
        "colab_type": "code",
        "colab": {
          "base_uri": "https://localhost:8080/",
          "height": 50
        },
        "outputId": "27793c20-d87f-4783-c209-0bf6e0120d78"
      },
      "source": [
        "#Caso donde  tenemos una entrada\n",
        "line  = lambda cantidad: print ('#'*cantidad)\n",
        "line(2)\n",
        "def line_design(cantidad):\n",
        "  print ('#'*cantidad)\n",
        "\n",
        "line_design(2)"
      ],
      "execution_count": null,
      "outputs": [
        {
          "output_type": "stream",
          "text": [
            "##\n",
            "##\n"
          ],
          "name": "stdout"
        }
      ]
    },
    {
      "cell_type": "code",
      "metadata": {
        "id": "KB4CPlvKYCg9",
        "colab_type": "code",
        "colab": {
          "base_uri": "https://localhost:8080/",
          "height": 84
        },
        "outputId": "94767d43-50e2-4ae6-a019-a5d9c2fe9927"
      },
      "source": [
        "#Caso donde tenemos más de una entrada\n",
        "sumar = lambda numero1 , numero2 : numero1 + numero2\n",
        "restar = lambda numero1 , numero2 : numero1 - numero2\n",
        "multiplicar = lambda numero1 , numero2 : numero1 * numero2\n",
        "dividir = lambda numero1 , numero2 : numero1 / numero2\n",
        "\n",
        "print (sumar (35,35))\n",
        "print (multiplicar (35,35))\n",
        "print (restar (35,35))\n",
        "print (dividir (35,35))"
      ],
      "execution_count": null,
      "outputs": [
        {
          "output_type": "stream",
          "text": [
            "70\n",
            "1225\n",
            "0\n",
            "1.0\n"
          ],
          "name": "stdout"
        }
      ]
    },
    {
      "cell_type": "code",
      "metadata": {
        "id": "gWQ_M964XEX8",
        "colab_type": "code",
        "colab": {
          "base_uri": "https://localhost:8080/",
          "height": 50
        },
        "outputId": "d77e6160-7891-42db-b232-e1961e100807"
      },
      "source": [
        "#Caso resultados por defecto\n",
        "sumar = lambda numero1=0 , numero2=0 : numero1 + numero2\n",
        "print (sumar())\n",
        "print (sumar(1,2))"
      ],
      "execution_count": null,
      "outputs": [
        {
          "output_type": "stream",
          "text": [
            "0\n",
            "3\n"
          ],
          "name": "stdout"
        }
      ]
    },
    {
      "cell_type": "code",
      "metadata": {
        "id": "F7D9ehAcaGjs",
        "colab_type": "code",
        "colab": {
          "base_uri": "https://localhost:8080/",
          "height": 101
        },
        "outputId": "d114de2b-2f8c-410d-e52f-08c7e0333130"
      },
      "source": [
        "#Funciones dentro de otras?\n",
        "calculadora = lambda accion, valor1=0, valor2=0: print(accion(valor1, valor2))\n",
        "\n",
        "calculadora(restar,2,2)\n",
        "calculadora(sumar,2,2)\n",
        "calculadora(dividir,2,2)\n",
        "calculadora(multiplicar,2,2)\n",
        "calculadora(sumar)\n"
      ],
      "execution_count": null,
      "outputs": [
        {
          "output_type": "stream",
          "text": [
            "0\n",
            "4\n",
            "1.0\n",
            "4\n",
            "0\n"
          ],
          "name": "stdout"
        }
      ]
    },
    {
      "cell_type": "markdown",
      "metadata": {
        "id": "sm0gii54bLDd",
        "colab_type": "text"
      },
      "source": [
        "# Funciones Map\n",
        "\n",
        "La función map nos permite aplicar una función sobre cada uno de los elementos de un colección\n",
        "\n",
        "\n",
        "Su estructura es como esta: \n",
        "```\n",
        "map(función a aplicar, objeto iterable)\n",
        "```\n",
        "\n"
      ]
    },
    {
      "cell_type": "code",
      "metadata": {
        "id": "VS-MQmxwbzSM",
        "colab_type": "code",
        "colab": {
          "base_uri": "https://localhost:8080/",
          "height": 34
        },
        "outputId": "71186208-5f84-451f-97a7-8910207a6c13"
      },
      "source": [
        "lista = [1,2,3,4]\n",
        "sumarDos = lambda valor : valor +2\n",
        "x = list (map (sumarDos, lista))\n",
        "print(x)\n"
      ],
      "execution_count": null,
      "outputs": [
        {
          "output_type": "stream",
          "text": [
            "[3, 4, 5, 6]\n"
          ],
          "name": "stdout"
        }
      ]
    },
    {
      "cell_type": "markdown",
      "metadata": {
        "id": "fbUzxooM4uIx",
        "colab_type": "text"
      },
      "source": [
        "# Funciones Filter\n",
        "Cómo su nombre lo indica, esta función nos permite realizar un filtro sobre los elementos de la lista\n",
        "\n",
        "\n",
        "\n",
        "```\n",
        "# filter(función a aplicar, objeto iterable)\n",
        "```\n",
        "\n"
      ]
    },
    {
      "cell_type": "code",
      "metadata": {
        "id": "1YVSP1ao4teq",
        "colab_type": "code",
        "colab": {
          "base_uri": "https://localhost:8080/",
          "height": 50
        },
        "outputId": "c8302b6f-2071-4b1a-e997-dbae11307d94"
      },
      "source": [
        "#filter\n",
        "listaNumeros = [1,2,3,45,23,4,8,9,20]\n",
        "listaPares = []\n",
        "for numero in listaNumeros: \n",
        "    if numero % 2 == 0 :\n",
        "        listaPares.append(numero)\n",
        "print (listaPares)\n",
        "par = lambda elemento : elemento %2 == 0\n",
        "pares = list (filter(par,listaNumeros))\n",
        "print (pares)"
      ],
      "execution_count": null,
      "outputs": [
        {
          "output_type": "stream",
          "text": [
            "[2, 4, 8, 20]\n",
            "[2, 4, 8, 20]\n"
          ],
          "name": "stdout"
        }
      ]
    },
    {
      "cell_type": "code",
      "metadata": {
        "id": "Jo0dv6a-me4b",
        "colab_type": "code",
        "colab": {}
      },
      "source": [
        ""
      ],
      "execution_count": null,
      "outputs": []
    }
  ]
}